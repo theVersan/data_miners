{
 "cells": [
  {
   "cell_type": "markdown",
   "metadata": {},
   "source": [
    "## Esse notebook apresenta o algoritmo que prevê o placar de uma partida\n",
    "\n",
    "Foram utilizados 3 modelos e, com isso, é possível compará-los e decidir o melhor a ser usado na aplicação final\n",
    "\n",
    "**Tutorial de como rodar esse notebook:**\n",
    "\n",
    "1 - Primeiro, é necessário rodar o notebook 'notebooks/pre-processamento/pre-processamento.ipynb', para que as tabelas utilizadas neste arquivo sejam geradas corretamente.\n",
    "\n",
    "2 - As bibliotecas necessárias já estão sendo importadas no código, mas se, por algum motivo, não funcionar, instale as bibliotecas no seu computador através do comando **pip install (nome da biblioteca)**\n",
    "\n",
    "3 - Ter o Python instalado"
   ]
  },
  {
   "cell_type": "markdown",
   "metadata": {},
   "source": [
    "Importação das bibliotecas"
   ]
  },
  {
   "cell_type": "code",
   "execution_count": 1,
   "metadata": {},
   "outputs": [],
   "source": [
    "import pandas as pd\n",
    "from sklearn.ensemble import RandomForestRegressor\n",
    "from sklearn.metrics import mean_squared_error\n",
    "from sklearn.metrics import mean_absolute_error, r2_score\n",
    "from sklearn.preprocessing import StandardScaler\n",
    "from sklearn.model_selection import train_test_split, GridSearchCV"
   ]
  },
  {
   "cell_type": "markdown",
   "metadata": {},
   "source": [
    "Carrega a tabela Matches"
   ]
  },
  {
   "cell_type": "code",
   "execution_count": 2,
   "metadata": {},
   "outputs": [],
   "source": [
    "dfMatches = pd.read_csv('../pre-processamento/dfMatches.csv')"
   ]
  },
  {
   "cell_type": "markdown",
   "metadata": {},
   "source": [
    "Selecão das variáveis importantes"
   ]
  },
  {
   "cell_type": "code",
   "execution_count": 3,
   "metadata": {},
   "outputs": [],
   "source": [
    "# Definir X\n",
    "X = dfMatches[['home_team_name',\n",
    "               'away_team_name',\n",
    "               'total_goal_count',\n",
    "               'away_team_first_goal',\n",
    "               'home_team_first_goal',\n",
    "               'away_team_goal_count_half_time',\n",
    "               'away_team_shots_on_target',\n",
    "               'home_ppg',\n",
    "               'team_a_xg',\n",
    "               'home_team_goal_count_half_time',\n",
    "               'Pre-Match PPG (Home)',\n",
    "               'away_ppg']]"
   ]
  },
  {
   "cell_type": "markdown",
   "metadata": {},
   "source": [
    "Seleção das colunas alvo"
   ]
  },
  {
   "cell_type": "code",
   "execution_count": 4,
   "metadata": {},
   "outputs": [],
   "source": [
    "y_gols_casa = dfMatches['home_team_goal_count']\n",
    "y_gols_fora = dfMatches['away_team_goal_count']"
   ]
  },
  {
   "cell_type": "markdown",
   "metadata": {},
   "source": [
    "Treinamento do modelo"
   ]
  },
  {
   "cell_type": "code",
   "execution_count": 5,
   "metadata": {},
   "outputs": [],
   "source": [
    "# Divisão dos dados em 80% treino e 20% teste\n",
    "X_train, X_test, y_train_casa, y_test_casa = train_test_split(X, y_gols_casa, test_size=0.2, random_state=42)\n",
    "_, _, y_train_fora, y_test_fora = train_test_split(X, y_gols_fora, test_size=0.2, random_state=42)\n",
    "\n",
    "# Treinamento dos modelos\n",
    "model_casa = RandomForestRegressor(n_estimators=100, random_state=42)\n",
    "model_fora = RandomForestRegressor(n_estimators=100, random_state=42)"
   ]
  },
  {
   "cell_type": "markdown",
   "metadata": {},
   "source": [
    "Normalização dos dados"
   ]
  },
  {
   "cell_type": "code",
   "execution_count": null,
   "metadata": {},
   "outputs": [],
   "source": [
    "# Normalizando os dados\n",
    "scaler = StandardScaler()\n",
    "K_train_scaled = scaler.fit_transform(X_train)\n",
    "K_test_scaled = scaler.transform(X_test)\n",
    "\n",
    "# Treinamento dos modelos com dados normalizados\n",
    "model_casa.fit(K_train_scaled, y_train_casa)\n",
    "model_fora.fit(K_train_scaled, y_train_fora)"
   ]
  },
  {
   "cell_type": "markdown",
   "metadata": {},
   "source": [
    "Tuning de hiperparâmetros"
   ]
  },
  {
   "cell_type": "code",
   "execution_count": null,
   "metadata": {},
   "outputs": [],
   "source": [
    "# Definindo o modelo\n",
    "rf_model = RandomForestRegressor(random_state=42)\n",
    "\n",
    "# Definindo a grade de hiperparâmetros\n",
    "param_grid = {\n",
    "    'n_estimators': [100, 200, 300],\n",
    "    'max_depth': [None, 10, 20, 30],\n",
    "    'min_samples_split': [2, 5, 10],\n",
    "    'min_samples_leaf': [1, 2, 4],\n",
    "    'bootstrap': [True, False]\n",
    "}\n",
    "\n",
    "# Inicializando o GridSearchCV para a equipe da casa\n",
    "grid_search_casa = GridSearchCV(estimator=rf_model, param_grid=param_grid, cv=5, n_jobs=-1, verbose=2, scoring='neg_mean_squared_error')\n",
    "grid_search_fora = GridSearchCV(estimator=rf_model, param_grid=param_grid, cv=5, n_jobs=-1, verbose=2, scoring='neg_mean_squared_error')\n",
    "\n",
    "# Treinamento dos modelos com GridSearchCV\n",
    "grid_search_casa.fit(K_train_scaled, y_train_casa)\n",
    "grid_search_fora.fit(K_train_scaled, y_train_fora)\n",
    "\n",
    "# Melhores hiperparâmetros encontrados para o time da casa e o visitante\n",
    "best_params_casa = grid_search_casa.best_params_\n",
    "best_params_fora = grid_search_fora.best_params_\n",
    "\n",
    "print(f\"Melhores hiperparâmetros para o time da casa: {best_params_casa}\")\n",
    "print(f\"Melhores hiperparâmetros para o time visitante: {best_params_fora}\")\n",
    "\n",
    "# Utilizando os melhores modelos\n",
    "best_model_casa = grid_search_casa.best_estimator_\n",
    "best_model_fora = grid_search_fora.best_estimator_"
   ]
  },
  {
   "cell_type": "markdown",
   "metadata": {},
   "source": [
    "Previsão do placar"
   ]
  },
  {
   "cell_type": "code",
   "execution_count": null,
   "metadata": {},
   "outputs": [],
   "source": [
    "def prever_placar(time1, time2, dfTeams, best_model_casa, best_model_fora, scaler):\n",
    "    # Verificar se os times existem no conjunto de dados\n",
    "    if time1 > dfMatches['home_team_name'].max() or time2 > dfMatches['away_team_name'].max():\n",
    "        print(\"Um dos times não existe.\")\n",
    "        return\n",
    "    \n",
    "    # Selecionar as características do time da casa e visitante\n",
    "    time1_features = dfMatches[dfMatches['home_team_name'] == time1].iloc[0]\n",
    "    time2_features = dfMatches[dfMatches['away_team_name'] == time2].iloc[0]\n",
    "\n",
    "    # Criar o DataFrame de entrada para o jogo\n",
    "    novo_jogo = pd.DataFrame([{\n",
    "        'home_team_name': time1,\n",
    "        'away_team_name': time2,\n",
    "        'total_goal_count': time1_features['total_goal_count'],\n",
    "        'away_team_first_goal': time2_features['away_team_first_goal'],\n",
    "        'home_team_first_goal': time1_features['home_team_first_goal'],\n",
    "        'away_team_goal_count_half_time': time2_features['away_team_goal_count_half_time'],\n",
    "        'away_team_shots_on_target': time2_features['away_team_shots_on_target'],\n",
    "        'home_ppg': time1_features['home_ppg'],\n",
    "        'team_a_xg': time1_features['team_a_xg'],\n",
    "        'home_team_goal_count_half_time': time1_features['home_team_goal_count_half_time'],\n",
    "        'Pre-Match PPG (Home)': time1_features['Pre-Match PPG (Home)'],\n",
    "        'away_ppg': time2_features['away_ppg']\n",
    "    }])\n",
    "\n",
    "    # Garantir que as colunas estejam alinhadas com o conjunto de treinamento\n",
    "    novo_jogo = novo_jogo.reindex(columns=X.columns, fill_value=0)\n",
    "\n",
    "    # Normalizar o novo jogo com o scaler já ajustado\n",
    "    novo_jogo_scaled = scaler.transform(novo_jogo)\n",
    "\n",
    "    # Fazer previsões para o time da casa e visitante\n",
    "    gols_casa_predito = best_model_casa.predict(novo_jogo_scaled)[0]\n",
    "    gols_fora_predito = best_model_fora.predict(novo_jogo_scaled)[0]\n",
    "\n",
    "    print(f'Previsão de Gols Casa: {gols_casa_predito:.3f}')\n",
    "    print(f'Previsão de Gols Fora: {gols_fora_predito:.3f}')\n",
    "\n",
    "    # Arredondar para obter o placar final\n",
    "    placar_casa = round(gols_casa_predito)\n",
    "    placar_fora = round(gols_fora_predito)\n",
    "\n",
    "    print(f'Placar Previsto: {placar_casa} x {placar_fora}')\n",
    "\n",
    "time1 = 0 # ID do time da casa\n",
    "time2 = 0 # ID do time visitante\n",
    "prever_placar(time1, time2, dfMatches, best_model_casa, best_model_fora, scaler)\n"
   ]
  },
  {
   "cell_type": "markdown",
   "metadata": {},
   "source": [
    "Métricas"
   ]
  },
  {
   "cell_type": "code",
   "execution_count": null,
   "metadata": {},
   "outputs": [],
   "source": [
    "# Prever os valores para os dados de teste\n",
    "y_pred_casa = best_model_casa.predict(K_test_scaled)\n",
    "y_pred_fora = best_model_fora.predict(K_test_scaled)\n",
    "\n",
    "# Avaliação do modelo para a equipe da casa\n",
    "mse_casa = mean_squared_error(y_test_casa, y_pred_casa)\n",
    "mae_casa = mean_absolute_error(y_test_casa, y_pred_casa)\n",
    "r2_casa = r2_score(y_test_casa, y_pred_casa)\n",
    "print(f'Modelo Casa (Tuned) - MSE: {mse_casa}, MAE: {mae_casa}, R2: {r2_casa}')\n",
    "\n",
    "# Avaliação do modelo para a equipe visitante\n",
    "mse_fora = mean_squared_error(y_test_fora, y_pred_fora)\n",
    "mae_fora = mean_absolute_error(y_test_fora, y_pred_fora)\n",
    "r2_fora = r2_score(y_test_fora, y_pred_fora)\n",
    "print(f'Modelo Fora (Tuned) - MSE: {mse_fora}, MAE: {mae_fora}, R2: {r2_fora}')"
   ]
  }
 ],
 "metadata": {
  "kernelspec": {
   "display_name": "Python 3",
   "language": "python",
   "name": "python3"
  },
  "language_info": {
   "codemirror_mode": {
    "name": "ipython",
    "version": 3
   },
   "file_extension": ".py",
   "mimetype": "text/x-python",
   "name": "python",
   "nbconvert_exporter": "python",
   "pygments_lexer": "ipython3",
   "version": "3.12.6"
  }
 },
 "nbformat": 4,
 "nbformat_minor": 2
}
