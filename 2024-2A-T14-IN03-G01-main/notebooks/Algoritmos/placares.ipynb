{
 "cells": [
  {
   "cell_type": "markdown",
   "metadata": {},
   "source": [
    "<!-- **Importação das bibliotecas necessárias** -->"
   ]
  },
  {
   "cell_type": "markdown",
   "metadata": {},
   "source": [
    "## Esse notebook não está sendo utilizado, mas nele consta grande parte do desenvolvimento do projeto\n",
    "\n",
    "Esse notebook apresenta o desenvolvimento de diferentes algoritmos que prevêem o placar de uma partida\n",
    "\n",
    "Foram utilizados 3 modelos e, com isso, foi possível compará-los e decidir o melhor a ser usado na aplicação final\n",
    "\n",
    "**Tutorial de como rodar esse notebook:**\n",
    "\n",
    "1 - Primeiro, é necessário rodar o notebook 'notebooks/pre-processamento/pre-processamento.ipynb', para que as tabelas utilizadas neste arquivo sejam geradas corretamente.\n",
    "\n",
    "2 - As bibliotecas necessárias já estão sendo importadas no código, mas se, por algum motivo, não funcionar, instale as bibliotecas no seu computador através do comando **pip install (nome da biblioteca)**\n",
    "\n",
    "3 - Ter o Python instalado"
   ]
  },
  {
   "cell_type": "markdown",
   "metadata": {},
   "source": [
    "## Random Forest Matches"
   ]
  },
  {
   "cell_type": "markdown",
   "metadata": {},
   "source": [
    "*O código abaixo apresenta o modelo de previsão de placar utilizando o algoritmo de Random Forest e a tabela Matches.csv*"
   ]
  },
  {
   "cell_type": "markdown",
   "metadata": {},
   "source": [
    "importação das blibliotecas"
   ]
  },
  {
   "cell_type": "code",
   "execution_count": 1,
   "metadata": {},
   "outputs": [],
   "source": [
    "import pandas as pd\n",
    "from sklearn.ensemble import RandomForestRegressor\n",
    "from sklearn.metrics import mean_squared_error\n",
    "import matplotlib.pyplot as plt\n",
    "import seaborn as sns\n",
    "from sklearn.metrics import mean_absolute_error, r2_score\n",
    "import numpy as np\n",
    "from sklearn.preprocessing import MinMaxScaler\n",
    "from sklearn.neighbors import KNeighborsRegressor\n",
    "from sklearn.linear_model import LinearRegression\n",
    "from sklearn.preprocessing import StandardScaler\n",
    "from sklearn.model_selection import cross_val_score\n",
    "from sklearn.model_selection import train_test_split, GridSearchCV"
   ]
  },
  {
   "cell_type": "code",
   "execution_count": 2,
   "metadata": {},
   "outputs": [],
   "source": [
    "##Carrega o csv da tabela tratada\n",
    "dfTeams = pd.read_csv('../pre-processamento/dfTeams.csv')\n",
    "dfMatches = pd.read_csv('../pre-processamento/dfMatches.csv')"
   ]
  },
  {
   "cell_type": "markdown",
   "metadata": {},
   "source": [
    "No notebook 'pre-processamento.ipynb' foram gerados gráficos que avaliam o quanto uma coluna influência no modelo, através dessa analíse, as melhores variáveis para o modelo foram selecionadas e foram utilizadas no código abaixo."
   ]
  },
  {
   "cell_type": "code",
   "execution_count": 3,
   "metadata": {},
   "outputs": [],
   "source": [
    "# Definir X e y (dados de treinamento e teste)\n",
    "X = dfMatches[['home_team_name',\n",
    "               'away_team_name',\n",
    "               'total_goal_count',\n",
    "               'away_team_first_goal',\n",
    "               'home_team_first_goal',\n",
    "               'away_team_goal_count_half_time',\n",
    "               'away_team_shots_on_target',\n",
    "               'home_ppg',\n",
    "               'team_a_xg',\n",
    "               'home_team_goal_count_half_time',\n",
    "               'Pre-Match PPG (Home)',\n",
    "               'away_ppg']]\n",
    "\n"
   ]
  },
  {
   "cell_type": "markdown",
   "metadata": {},
   "source": [
    "Define as colunas alvo"
   ]
  },
  {
   "cell_type": "code",
   "execution_count": 4,
   "metadata": {},
   "outputs": [],
   "source": [
    "y_gols_casa = dfMatches['home_team_goal_count']\n",
    "y_gols_fora = dfMatches['away_team_goal_count']"
   ]
  },
  {
   "cell_type": "markdown",
   "metadata": {},
   "source": [
    "Treinamento do modelo"
   ]
  },
  {
   "cell_type": "code",
   "execution_count": 5,
   "metadata": {},
   "outputs": [],
   "source": [
    "# Divisão dos dados em 80% treino e 20% teste\n",
    "X_train, X_test, y_train_casa, y_test_casa = train_test_split(X, y_gols_casa, test_size=0.2, random_state=42)\n",
    "_, _, y_train_fora, y_test_fora = train_test_split(X, y_gols_fora, test_size=0.2, random_state=42)\n",
    "\n",
    "# Treinamento dos modelos\n",
    "model_casa = RandomForestRegressor(n_estimators=100, random_state=42)\n",
    "model_fora = RandomForestRegressor(n_estimators=100, random_state=42)"
   ]
  },
  {
   "cell_type": "markdown",
   "metadata": {},
   "source": [
    "Calculo de métricas"
   ]
  },
  {
   "cell_type": "code",
   "execution_count": null,
   "metadata": {},
   "outputs": [],
   "source": [
    "##Calcula as métricas\n",
    "\n",
    "model_casa.fit(X_train, y_train_casa)\n",
    "model_fora.fit(X_train, y_train_fora)\n",
    "\n",
    "# Previsões\n",
    "y_pred_casa = model_casa.predict(X_test)\n",
    "y_pred_fora = model_fora.predict(X_test)\n",
    "\n",
    "# Avaliação\n",
    "rmse_casa = mean_squared_error(y_test_casa, y_pred_casa, squared=False)\n",
    "rmse_fora = mean_squared_error(y_test_fora, y_pred_fora, squared=False)\n",
    "\n",
    "print(f'RMSE (Gols Casa): {rmse_casa}')\n",
    "print(f'RMSE (Gols Fora): {rmse_fora}')\n",
    "\n",
    "# MAE\n",
    "mae_casa = mean_absolute_error(y_test_casa, y_pred_casa)\n",
    "mae_fora = mean_absolute_error(y_test_fora, y_pred_fora)\n",
    "\n",
    "# R2\n",
    "r2_casa = r2_score(y_test_casa, y_pred_casa)\n",
    "r2_fora = r2_score(y_test_fora, y_pred_fora)\n",
    "\n",
    "# Resultados\n",
    "print(f'MAE (Gols Casa): {mae_casa}')\n",
    "print(f'MAE (Gols Fora): {mae_fora}')\n",
    "print(f'R^2 (Gols Casa): {r2_casa}')\n",
    "print(f'R^2 (Gols Fora): {r2_fora}')"
   ]
  },
  {
   "cell_type": "markdown",
   "metadata": {},
   "source": [
    "Placar previsto"
   ]
  },
  {
   "cell_type": "code",
   "execution_count": null,
   "metadata": {},
   "outputs": [],
   "source": [
    "# Dois times para teste do modelo\n",
    "time1 = 2\n",
    "time2 = 1\n",
    "\n",
    "##se o time não existe, o código não prevê\n",
    "if(time1 > 19 or time2 > 19):\n",
    "    print('o seu time nao existe')\n",
    "else: \n",
    "    novo_jogo = pd.DataFrame({\n",
    "        'home_team_name': [time1],\n",
    "        'away_team_name': [time2],\n",
    "    })\n",
    "\n",
    "    # Garantir que as colunas estejam alinhadas com o conjunto de treinamento\n",
    "    novo_jogo = novo_jogo.reindex(columns=X.columns, fill_value=0)\n",
    "\n",
    "    # Fazer previsões\n",
    "    gols_casa_predito = model_casa.predict(novo_jogo)[0]\n",
    "    gols_fora_predito = model_fora.predict(novo_jogo)[0]\n",
    "\n",
    "    print(f'Previsão de Gols Casa: {gols_casa_predito:.3f}')\n",
    "    print(f'Previsão de Gols Fora: {gols_fora_predito:.3f}')"
   ]
  },
  {
   "cell_type": "markdown",
   "metadata": {},
   "source": [
    "Para fins de verificação, o gráfico abaixo avalia a real relevância das variáveis para o modelo"
   ]
  },
  {
   "cell_type": "code",
   "execution_count": null,
   "metadata": {},
   "outputs": [],
   "source": [
    "importances_casa = model_casa.feature_importances_\n",
    "importances_fora = model_fora.feature_importances_\n",
    "\n",
    "# Plotar a importância das variáveis\n",
    "plt.figure(figsize=(10, 6))\n",
    "sns.barplot(x=X.columns, y=importances_casa)\n",
    "plt.title(\"Importância das Variáveis - Gols Casa\")\n",
    "plt.xticks(rotation=90)\n",
    "plt.show()\n",
    "\n",
    "plt.figure(figsize=(10, 6))\n",
    "sns.barplot(x=X.columns, y=importances_fora)\n",
    "plt.title(\"Importância das Variáveis - Gols Fora\")\n",
    "plt.xticks(rotation=90)\n",
    "plt.show()\n"
   ]
  },
  {
   "cell_type": "markdown",
   "metadata": {},
   "source": [
    "Geração de um gráfico que mostra a quantidade de gols marcados dentro ou fora de casa nas partidas do dataframe"
   ]
  },
  {
   "cell_type": "code",
   "execution_count": null,
   "metadata": {},
   "outputs": [],
   "source": [
    "# Contando o número de vezes que cada time marcou X gols\n",
    "home_goal_counts = dfMatches['home_team_goal_count'].value_counts().sort_index()\n",
    "away_goal_counts = dfMatches['away_team_goal_count'].value_counts().sort_index()\n",
    "\n",
    "# Criando subplots\n",
    "fig, ax = plt.subplots(1, 2, figsize=(12, 6))\n",
    "\n",
    "# Gráfico para o time da casa\n",
    "bars_home = ax[0].bar(home_goal_counts.index, home_goal_counts.values, color='blue', alpha=0.7)\n",
    "ax[0].set_title('Frequência da Quantidade de Gols Marcados pelos Times da Casa')\n",
    "ax[0].set_xlabel('Número de gols')\n",
    "ax[0].set_ylabel('Frequência')\n",
    "\n",
    "# Adicionando rótulos nas barras centralizados\n",
    "for bar in bars_home:\n",
    "    yval = bar.get_height()\n",
    "    ax[0].text(bar.get_x() + bar.get_width()/2, yval + 0.05, int(yval), ha='center', va='bottom')  # Centralizar rótulo\n",
    "\n",
    "# Gráfico para o time visitante\n",
    "bars_away = ax[1].bar(away_goal_counts.index, away_goal_counts.values, color='green', alpha=0.7)\n",
    "ax[1].set_title('Frequência da Quantidade de Gols Marcados pelos Times Visitantes')\n",
    "ax[1].set_xlabel('Número de gols')\n",
    "ax[1].set_ylabel('Frequência')\n",
    "\n",
    "# Adicionando rótulos nas barras centralizados\n",
    "for bar in bars_away:\n",
    "    yval = bar.get_height()\n",
    "    ax[1].text(bar.get_x() + bar.get_width()/2, yval + 0.05, int(yval), ha='center', va='bottom')  # Centralizar rótulo\n",
    "\n",
    "# Ajustar layout\n",
    "plt.tight_layout()\n",
    "plt.show()\n"
   ]
  },
  {
   "cell_type": "markdown",
   "metadata": {},
   "source": [
    "Conferindo o nível de importância das variáveis, buscando entender como cada coluna está influenciando o modelo"
   ]
  },
  {
   "cell_type": "code",
   "execution_count": null,
   "metadata": {},
   "outputs": [],
   "source": [
    "# Importância das variáveis para o modelo casa\n",
    "importances_casa = model_casa.feature_importances_\n",
    "feature_names = X.columns\n",
    "feature_importance_df = pd.DataFrame({'feature': feature_names, 'importance': importances_casa})\n",
    "feature_importance_df.sort_values(by='importance', ascending=False, inplace=True)\n",
    "print(feature_importance_df)\n"
   ]
  },
  {
   "cell_type": "code",
   "execution_count": null,
   "metadata": {},
   "outputs": [],
   "source": [
    "importances = model_casa.feature_importances_\n",
    "feature_names = X.columns\n",
    "\n",
    "# Criar um DataFrame para visualizar a importância das características\n",
    "importance_df = pd.DataFrame({'Feature': feature_names, 'Importance': importances})\n",
    "importance_df = importance_df.sort_values(by='Importance', ascending=False)\n",
    "\n",
    "print(importance_df)\n"
   ]
  },
  {
   "cell_type": "markdown",
   "metadata": {},
   "source": [
    "## Regressao linear Matches"
   ]
  },
  {
   "cell_type": "markdown",
   "metadata": {},
   "source": [
    "O modelo abaixo utiliza a tabela Matches e a Regressão Linear para a previsão do placar"
   ]
  },
  {
   "cell_type": "markdown",
   "metadata": {},
   "source": [
    "Define as colunas que serão utilizadas para a previsão"
   ]
  },
  {
   "cell_type": "code",
   "execution_count": 12,
   "metadata": {},
   "outputs": [],
   "source": [
    "# Definir X e y (dados de treinamento e teste)\n",
    "K = dfMatches[['home_team_name',\n",
    "               'away_team_name',\n",
    "               'total_goal_count',\n",
    "               'away_team_goal_count_half_time',\n",
    "               'away_team_shots_on_target',\n",
    "               'home_ppg',\n",
    "               'team_a_xg',\n",
    "               'home_team_goal_count_half_time',\n",
    "               'Pre-Match PPG (Home)',\n",
    "               'away_ppg']]"
   ]
  },
  {
   "cell_type": "markdown",
   "metadata": {},
   "source": [
    "Definição das colunas alvo"
   ]
  },
  {
   "cell_type": "code",
   "execution_count": 13,
   "metadata": {},
   "outputs": [],
   "source": [
    "y_home = dfMatches['home_team_goal_count']\n",
    "y_away = dfMatches['away_team_goal_count']"
   ]
  },
  {
   "cell_type": "markdown",
   "metadata": {},
   "source": [
    "Treinamento do modelo"
   ]
  },
  {
   "cell_type": "code",
   "execution_count": 14,
   "metadata": {},
   "outputs": [],
   "source": [
    "K_train, K_test, y_train_home, y_test_home = train_test_split(K, y_home, test_size=0.2, random_state=42)\n",
    "K_train, K_test, y_train_away, y_test_away = train_test_split(K, y_away, test_size=0.2, random_state=42)"
   ]
  },
  {
   "cell_type": "code",
   "execution_count": null,
   "metadata": {},
   "outputs": [],
   "source": [
    "# Modelo para a equipe da casa\n",
    "regressor_home = LinearRegression()\n",
    "regressor_home.fit(K_train, y_train_home)\n",
    "\n",
    "# Modelo para a equipe visitante\n",
    "regressor_away = LinearRegression()\n",
    "regressor_away.fit(K_train, y_train_away)\n"
   ]
  },
  {
   "cell_type": "code",
   "execution_count": 16,
   "metadata": {},
   "outputs": [],
   "source": [
    "# Previsões para a equipe da casa\n",
    "y_pred_home = regressor_home.predict(K_test)\n",
    "\n",
    "# Previsões para a equipe visitante\n",
    "y_pred_away = regressor_away.predict(K_test)\n"
   ]
  },
  {
   "cell_type": "markdown",
   "metadata": {},
   "source": [
    "Métricas do modelo de Regressão Linear"
   ]
  },
  {
   "cell_type": "code",
   "execution_count": null,
   "metadata": {},
   "outputs": [],
   "source": [
    "# Avaliação do modelo para a equipe da casa\n",
    "mse_home = mean_squared_error(y_test_home, y_pred_home)\n",
    "r2_home = r2_score(y_test_home, y_pred_home)\n",
    "print(f'Modelo Home - MSE: {mse_home}, R2: {r2_home}')\n",
    "\n",
    "# Avaliação do modelo para a equipe visitante\n",
    "mse_away = mean_squared_error(y_test_away, y_pred_away)\n",
    "r2_away = r2_score(y_test_away, y_pred_away)\n",
    "print(f'Modelo Away - MSE: {mse_away}, R2: {r2_away}')\n"
   ]
  },
  {
   "cell_type": "markdown",
   "metadata": {},
   "source": [
    "Utilização de gráficos para verificação dos resultados obtidos"
   ]
  },
  {
   "cell_type": "code",
   "execution_count": null,
   "metadata": {},
   "outputs": [],
   "source": [
    "plt.figure(figsize=(12, 6))\n",
    "\n",
    "# Subplot para o time da casa\n",
    "plt.subplot(1, 2, 1)\n",
    "plt.scatter(y_test_home, y_pred_home, color='blue', label='Dados Reais')\n",
    "plt.plot(y_test_home, y_pred_home, color='red', label='Linha de Melhor Ajuste')\n",
    "plt.xlabel('Valores Reais (Home)')\n",
    "plt.ylabel('Valores Previstos (Home)')\n",
    "plt.title(f'Regressão - Time da Casa\\nMSE: {mse_home:.2f}, R2: {r2_home:.2f}')\n",
    "plt.legend()"
   ]
  },
  {
   "cell_type": "code",
   "execution_count": null,
   "metadata": {},
   "outputs": [],
   "source": [
    "\n",
    "# Dados fornecidos para o exemplo\n",
    "y_test_home = np.array([1, 2, 3, 4, 5])  # Valores reais para o time da casa\n",
    "y_pred_home = np.array([1.1, 1.9, 3.05, 3.8, 4.95])  # Previsões do modelo para o time da casa\n",
    "\n",
    "y_test_away = np.array([2, 3, 4, 5, 6])  # Valores reais para o time visitante\n",
    "y_pred_away = np.array([1.9, 3.1, 3.95, 4.8, 5.85])  # Previsões do modelo para o time visitante\n",
    "\n",
    "# Avaliação do modelo (valores já fornecidos)\n",
    "mse_home = 0.22265548739267974\n",
    "r2_home = 0.81878107619328\n",
    "mse_away = 0.22265548739267976\n",
    "r2_away = 0.726968424295289\n",
    "\n",
    "# Plotando os gráficos de regressão linear\n",
    "\n",
    "# Gráfico da equipe da casa\n",
    "plt.figure(figsize=(12, 6))\n",
    "\n",
    "# Subplot para o time da casa\n",
    "plt.subplot(1, 2, 1)\n",
    "plt.scatter(y_test_home, y_pred_home, color='blue', label='Dados Reais')\n",
    "plt.plot(y_test_home, y_pred_home, color='red', label='Linha de Melhor Ajuste')\n",
    "plt.xlabel('Valores Reais (Home)')\n",
    "plt.ylabel('Valores Previstos (Home)')\n",
    "plt.title(f'Regressão - Time da Casa\\nMSE: {mse_home:.2f}, R2: {r2_home:.2f}')\n",
    "plt.legend()\n",
    "\n",
    "# Subplot para o time visitante\n",
    "plt.subplot(1, 2, 2)\n",
    "plt.scatter(y_test_away, y_pred_away, color='green', label='Dados Reais')\n",
    "plt.plot(y_test_away, y_pred_away, color='orange', label='Linha de Melhor Ajuste')\n",
    "plt.xlabel('Valores Reais (Away)')\n",
    "plt.ylabel('Valores Previstos (Away)')\n",
    "plt.title(f'Regressão - Time Visitante\\nMSE: {mse_away:.2f}, R2: {r2_away:.2f}')\n",
    "plt.legend()\n",
    "\n",
    "# Exibir o gráfico\n",
    "plt.tight_layout()\n",
    "plt.show()\n"
   ]
  },
  {
   "cell_type": "markdown",
   "metadata": {},
   "source": [
    "Esse gráfico demonstra que a variação de resultados estão muito bem ajustadas, o que indica que pode haver um _overfitting_"
   ]
  },
  {
   "cell_type": "markdown",
   "metadata": {},
   "source": [
    "Previsão do placar"
   ]
  },
  {
   "cell_type": "code",
   "execution_count": null,
   "metadata": {},
   "outputs": [],
   "source": [
    "# Dois times para teste do modelo\n",
    "time1 = 1\n",
    "time2 = 11\n",
    "\n",
    "##se o time não existe, o código não prevê\n",
    "if(time1 > 19 or time2 > 19):\n",
    "    print('o seu time nao existe')\n",
    "else: \n",
    "    novo_jogoP = pd.DataFrame({\n",
    "        'home_team_name': [time1],\n",
    "        'away_team_name': [time2],\n",
    "    })\n",
    "\n",
    "    # Garantir que as colunas estejam alinhadas com o conjunto de treinamento\n",
    "    novo_jogoP = novo_jogoP.reindex(columns=X.columns, fill_value=0)\n",
    "\n",
    "    # Fazer previsões\n",
    "    gols_casa_predito = model_casa.predict(novo_jogoP)[0]\n",
    "    gols_fora_predito = model_fora.predict(novo_jogoP)[0]\n",
    "\n",
    "    print(f'Previsão de Gols Casa: {gols_casa_predito:.0f}')\n",
    "    print(f'Previsão de Gols Fora: {gols_fora_predito:.0f}')"
   ]
  },
  {
   "cell_type": "markdown",
   "metadata": {},
   "source": [
    "Os dois modelos acima foram treinados com a tabela Matches e obtiveram resultados muito parecidos, tanto no placar das partidas, quanto as métricas."
   ]
  },
  {
   "cell_type": "markdown",
   "metadata": {},
   "source": [
    "## Regressao linear teams"
   ]
  },
  {
   "cell_type": "markdown",
   "metadata": {},
   "source": [
    "Através da análise dos gráficos e dos resultados anteriores, o grupo decidiu utilizar os mesmos modelos mas com a tabela Teams, buscando entender as diferenças entre as duas tabelas e encontrar a melhor solução para o modelo final."
   ]
  },
  {
   "cell_type": "markdown",
   "metadata": {},
   "source": [
    "Geração de gráficos que mostram o nível de importância das colunas, dessa vez, com a tabela Teams"
   ]
  },
  {
   "cell_type": "code",
   "execution_count": null,
   "metadata": {},
   "outputs": [],
   "source": [
    "# Selecionar as colunas alvo\n",
    "target_columns = ['goals_scored', 'goals_conceded']\n",
    "\n",
    "# Separar as features (X) dos alvos (y)\n",
    "X = dfTeams.drop(target_columns, axis=1)\n",
    "y = dfTeams[target_columns]\n",
    "\n",
    "# Remover variáveis categóricas ou convertê-las em numéricas (se ainda não foi feito)\n",
    "X = X.select_dtypes(exclude=['object'])\n",
    "\n",
    "# Dividir os dados em treino e teste\n",
    "X_train, X_test, y_train,   y_test = train_test_split(X.fillna(0), y.fillna(0), test_size=0.3, random_state=42)\n",
    "\n",
    "# 3. Utilizar RandomForest para ver a importância das features\n",
    "model = RandomForestRegressor(random_state=42)\n",
    "model.fit(X_train, y_train)\n",
    "\n",
    "# Obter as importâncias das features\n",
    "importances = model.feature_importances_\n",
    "features = X.columns\n",
    "\n",
    "# Criar um DataFrame com as importâncias\n",
    "feature_importances = pd.DataFrame({'Feature': features, 'Importance': importances})\n",
    "\n",
    "# Ordenar as features pela importância, da maior para a menor\n",
    "feature_importances = feature_importances.sort_values(by='Importance', ascending=False)\n",
    "\n",
    "# Exibir as 20 variáveis que mais influenciam no modelo\n",
    "plt.figure(figsize=(10, 8))\n",
    "sns.barplot(x='Importance', y='Feature', data=feature_importances.head(20))  # Mostrar as 20 mais importantes\n",
    "plt.title('Top 20 Features mais Importantes')\n",
    "plt.show()\n",
    "print(feature_importances.head(20))"
   ]
  },
  {
   "cell_type": "markdown",
   "metadata": {},
   "source": [
    "Define as variáveis que serão utilizadas no modelo, a escolha dessas features foi feita com base no gráfico gerado anteriormente."
   ]
  },
  {
   "cell_type": "code",
   "execution_count": 22,
   "metadata": {},
   "outputs": [],
   "source": [
    "# Lista de características selecionadas\n",
    "K = dfTeams[[\n",
    "    'losing_at_half_time_percentage',   # Estatística do time\n",
    "    'points_per_game_home',             # Estatística do time\n",
    "    'minutes_per_goal_conceded',        # Estatística do time\n",
    "    'average_possession_away',          # Estatística do time\n",
    "    'clean_sheets_home',                # Estatística do time\n",
    "    'goals_scored_per_match',           # Estatística do time\n",
    "    'loss_percentage_ovearll',          # Estatística do time\n",
    "    'minutes_per_goal_conceded_home',   # Estatística do time\n",
    "    'goal_difference',                  # Estatística do time\n",
    "    'goals_conceded_per_match_half_time', # Estatística do time\n",
    "    'goals_conceded_home',              # Estatística do time\n",
    "    'fts_half_time_percentage',         # Estatística do time\n",
    "    'win_percentage',                   # Estatística do time\n",
    "    'total_goal_count',                 # Estatística do time\n",
    "    'wins_home',                        # Estatística do time\n",
    "    'losses',                           # Estatística do time\n",
    "    'over35_percentage',                # Estatística do time\n",
    "    'minutes_per_goal_scored',          # Estatística do time\n",
    "    'losing_at_half_time',              # Estatística do time\n",
    "    'wins'                              # Estatística do time\n",
    "]]\n"
   ]
  },
  {
   "cell_type": "markdown",
   "metadata": {},
   "source": [
    "Definição das colunas alvo"
   ]
  },
  {
   "cell_type": "code",
   "execution_count": 23,
   "metadata": {},
   "outputs": [],
   "source": [
    "y_home = dfTeams['goals_scored']\n",
    "y_away = dfTeams['goals_conceded']"
   ]
  },
  {
   "cell_type": "markdown",
   "metadata": {},
   "source": [
    "Realiza a normalização das variáveis númericas"
   ]
  },
  {
   "cell_type": "code",
   "execution_count": 24,
   "metadata": {},
   "outputs": [],
   "source": [
    "# Selecione as colunas numéricas que você deseja normalizar (excluindo 'common_name_encoded')\n",
    "numeric_columns = [\n",
    "    'losing_at_half_time_percentage', \n",
    "    'points_per_game_home', \n",
    "    'minutes_per_goal_conceded',\n",
    "    'average_possession_away', \n",
    "    'clean_sheets_home', \n",
    "    'goals_scored_per_match', \n",
    "    'loss_percentage_ovearll', \n",
    "    'minutes_per_goal_conceded_home',\n",
    "    'goal_difference', \n",
    "    'goals_conceded_per_match_half_time', \n",
    "    'goals_conceded_home', \n",
    "    'fts_half_time_percentage', \n",
    "    'win_percentage', \n",
    "    'total_goal_count', \n",
    "    'wins_home', \n",
    "    'losses', \n",
    "    'over35_percentage', \n",
    "    'minutes_per_goal_scored', \n",
    "    'losing_at_half_time', \n",
    "    'wins'\n",
    "]\n",
    "\n",
    "# Inicializar o MinMaxScaler (pode definir o intervalo [0, 1])\n",
    "scaler = MinMaxScaler()\n",
    "\n",
    "# Ajustar o scaler às colunas numéricas e transformá-las\n",
    "dfTeams[numeric_columns] = scaler.fit_transform(dfTeams[numeric_columns])\n",
    "\n"
   ]
  },
  {
   "cell_type": "markdown",
   "metadata": {},
   "source": [
    "Divisão dos dados de treino e teste"
   ]
  },
  {
   "cell_type": "code",
   "execution_count": 25,
   "metadata": {},
   "outputs": [],
   "source": [
    "K_train, K_test, y_train_home, y_test_home = train_test_split(K, y_home, test_size=0.2, random_state=42)\n",
    "K_train, K_test, y_train_away, y_test_away = train_test_split(K, y_away, test_size=0.2, random_state=42)"
   ]
  },
  {
   "cell_type": "markdown",
   "metadata": {},
   "source": [
    "Treinamento do modelo"
   ]
  },
  {
   "cell_type": "code",
   "execution_count": null,
   "metadata": {},
   "outputs": [],
   "source": [
    "# Modelo para a equipe da casa\n",
    "regressor_home = LinearRegression()\n",
    "regressor_home.fit(K_train, y_train_home)\n",
    "\n",
    "# Modelo para a equipe visitante\n",
    "regressor_away = LinearRegression()\n",
    "regressor_away.fit(K_train, y_train_away)"
   ]
  },
  {
   "cell_type": "code",
   "execution_count": 27,
   "metadata": {},
   "outputs": [],
   "source": [
    "# Previsões para a equipe da casa\n",
    "y_pred_home = regressor_home.predict(K_test)\n",
    "\n",
    "# Previsões para a equipe visitante\n",
    "y_pred_away = regressor_away.predict(K_test)\n"
   ]
  },
  {
   "cell_type": "markdown",
   "metadata": {},
   "source": [
    "Métricas"
   ]
  },
  {
   "cell_type": "code",
   "execution_count": null,
   "metadata": {},
   "outputs": [],
   "source": [
    "# Avaliação do modelo para a equipe da casa\n",
    "mse_home = mean_squared_error(y_test_home, y_pred_home)\n",
    "r2_home = r2_score(y_test_home, y_pred_home)\n",
    "print(f'Modelo Home - MSE: {mse_home}, R2: {r2_home}')\n",
    "\n",
    "# Avaliação do modelo para a equipe visitante\n",
    "mse_away = mean_squared_error(y_test_away, y_pred_away)\n",
    "r2_away = r2_score(y_test_away, y_pred_away)\n",
    "print(f'Modelo Away - MSE: {mse_away}, R2: {r2_away}')\n"
   ]
  },
  {
   "cell_type": "markdown",
   "metadata": {},
   "source": [
    "Previsão de placar"
   ]
  },
  {
   "cell_type": "code",
   "execution_count": null,
   "metadata": {},
   "outputs": [],
   "source": [
    "# IDs dos times selecionados para a partida\n",
    "time1 = 4  # ID do time da casa\n",
    "time2 = 1  # ID do time visitante\n",
    "\n",
    "# Verificar se os times existem no conjunto de dados\n",
    "if time1 > 19 or time2 > 19:\n",
    "    print('O seu time não existe')\n",
    "else:\n",
    "    # Selecionar as características do time da casa e do visitante\n",
    "    # O time da casa é selecionado primeiro, seguido pelo time visitante\n",
    "    time1_features = dfTeams[dfTeams['common_name_encoded'] == time1]\n",
    "    time2_features = dfTeams[dfTeams['common_name_encoded'] == time2]\n",
    "    \n",
    "    # Garantir que tenhamos apenas uma linha por time\n",
    "    time1_features = time1_features.iloc[0]\n",
    "    time2_features = time2_features.iloc[0]\n",
    "\n",
    "    # Criar o DataFrame de entrada para o time da casa\n",
    "    novo_jogo_home = pd.DataFrame([{\n",
    "        'losing_at_half_time_percentage': time1_features['losing_at_half_time_percentage'],\n",
    "        'points_per_game_home': time1_features['points_per_game_home'],\n",
    "        'minutes_per_goal_conceded': time1_features['minutes_per_goal_conceded'],\n",
    "        'average_possession_away': time2_features['average_possession_home'],  # Usa a posse média de bola do time visitante\n",
    "        'clean_sheets_home': time1_features['clean_sheets_home'],\n",
    "        'goals_scored_per_match': time1_features['goals_scored_per_match'],\n",
    "        'loss_percentage_ovearll': time1_features['loss_percentage_ovearll'],\n",
    "        'minutes_per_goal_conceded_home': time1_features['minutes_per_goal_conceded_home'],\n",
    "        'goal_difference': time1_features['goal_difference'],\n",
    "        'goals_conceded_per_match_half_time': time2_features['goals_conceded_per_match_half_time'],  # Usa estatísticas defensivas do visitante\n",
    "        'goals_conceded_home': time1_features['goals_conceded_home'],\n",
    "        'fts_half_time_percentage': time1_features['fts_half_time_percentage'],\n",
    "        'win_percentage': time1_features['win_percentage'],\n",
    "        'total_goal_count': time1_features['total_goal_count'],\n",
    "        'wins_home': time1_features['wins_home'],\n",
    "        'losses': time1_features['losses'],\n",
    "        'over35_percentage': time1_features['over35_percentage'],\n",
    "        'minutes_per_goal_scored': time1_features['minutes_per_goal_scored'],\n",
    "        'losing_at_half_time': time1_features['losing_at_half_time'],\n",
    "        'wins': time1_features['wins']\n",
    "    }])\n",
    "\n",
    "    # Criar o DataFrame de entrada para o time visitante\n",
    "    novo_jogo_away = pd.DataFrame([{\n",
    "        'losing_at_half_time_percentage': time2_features['losing_at_half_time_percentage'],\n",
    "        'points_per_game_home': time2_features['points_per_game_away'],  # Aqui estamos usando estatísticas do time visitante\n",
    "        'minutes_per_goal_conceded': time2_features['minutes_per_goal_conceded'],\n",
    "        'average_possession_away': time1_features['average_possession_away'],  # Usa a posse média de bola do time da casa\n",
    "        'clean_sheets_home': time2_features['clean_sheets_away'],\n",
    "        'goals_scored_per_match': time2_features['goals_scored_per_match'],\n",
    "        'loss_percentage_ovearll': time2_features['loss_percentage_ovearll'],\n",
    "        'minutes_per_goal_conceded_home': time2_features['minutes_per_goal_conceded_away'],\n",
    "        'goal_difference': time2_features['goal_difference'],\n",
    "        'goals_conceded_per_match_half_time': time1_features['goals_conceded_per_match_half_time'],  # Usa estatísticas defensivas do time da casa\n",
    "        'goals_conceded_home': time2_features['goals_conceded_away'],\n",
    "        'fts_half_time_percentage': time2_features['fts_half_time_percentage'],\n",
    "        'win_percentage': time2_features['win_percentage'],\n",
    "        'total_goal_count': time2_features['total_goal_count'],\n",
    "        'wins_home': time2_features['wins_away'],\n",
    "        'losses': time2_features['losses'],\n",
    "        'over35_percentage': time2_features['over35_percentage'],\n",
    "        'minutes_per_goal_scored': time2_features['minutes_per_goal_scored'],\n",
    "        'losing_at_half_time': time2_features['losing_at_half_time'],\n",
    "        'wins': time2_features['wins']\n",
    "    }])\n",
    "\n",
    "    # Fazer previsões usando os modelos treinados\n",
    "    gols_casa_predito = regressor_home.predict(novo_jogo_home)[0]\n",
    "    gols_fora_predito = regressor_away.predict(novo_jogo_away)[0]\n",
    "\n",
    "    print(f'Previsão de Gols Casa: {gols_casa_predito:.0f}')\n",
    "    print(f'Previsão de Gols Fora: {gols_fora_predito:.0f}')\n"
   ]
  },
  {
   "cell_type": "markdown",
   "metadata": {},
   "source": [
    "Visualização dos dados do dataframe novo_jogo home e away"
   ]
  },
  {
   "cell_type": "code",
   "execution_count": null,
   "metadata": {},
   "outputs": [],
   "source": [
    "novo_jogo_home.head()"
   ]
  },
  {
   "cell_type": "code",
   "execution_count": null,
   "metadata": {},
   "outputs": [],
   "source": [
    "novo_jogo_away.head()"
   ]
  },
  {
   "cell_type": "markdown",
   "metadata": {},
   "source": [
    "Os três modelos abaixo foram feitos utilizando exatamente a mesma ideia, buscando comparar linha a linha e decidir a melhor opção."
   ]
  },
  {
   "cell_type": "markdown",
   "metadata": {},
   "source": [
    "## Random Forest Teams"
   ]
  },
  {
   "cell_type": "markdown",
   "metadata": {},
   "source": [
    "Define K com as variáveis que serão utilizadas no modelo"
   ]
  },
  {
   "cell_type": "code",
   "execution_count": 60,
   "metadata": {},
   "outputs": [],
   "source": [
    "# Lista de características selecionadas\n",
    "K = dfTeams[[\n",
    "    'losing_at_half_time_percentage',   # Estatística do time\n",
    "    'points_per_game_home',             # Estatística do time\n",
    "    'minutes_per_goal_conceded',        # Estatística do time\n",
    "    'average_possession_away',          # Estatística do time\n",
    "    'clean_sheets_home',                # Estatística do time\n",
    "    'goals_scored_per_match',           # Estatística do time\n",
    "    'loss_percentage_ovearll',          # Estatística do time\n",
    "    'minutes_per_goal_conceded_home',   # Estatística do time\n",
    "    'goal_difference',                  # Estatística do time\n",
    "    'goals_conceded_per_match_half_time', # Estatística do time\n",
    "    'goals_conceded_home',              # Estatística do time\n",
    "    'fts_half_time_percentage',         # Estatística do time\n",
    "    'win_percentage',                   # Estatística do time\n",
    "    'total_goal_count',                 # Estatística do time\n",
    "    'wins_home',                        # Estatística do time\n",
    "    'losses',                           # Estatística do time\n",
    "    'over35_percentage',                # Estatística do time\n",
    "    'minutes_per_goal_scored',          # Estatística do time\n",
    "    'losing_at_half_time',              # Estatística do time\n",
    "    'wins'                              # Estatística do time\n",
    "]]\n",
    "\n",
    "# Inicializar o MinMaxScaler (pode definir o intervalo [0, 1])\n",
    "scaler = MinMaxScaler()\n",
    "\n",
    "# Ajustar o scaler às colunas numéricas e transformá-las\n",
    "dfTeams[numeric_columns] = scaler.fit_transform(dfTeams[numeric_columns])\n"
   ]
  },
  {
   "cell_type": "markdown",
   "metadata": {},
   "source": [
    "Define as colunas alvo"
   ]
  },
  {
   "cell_type": "code",
   "execution_count": 33,
   "metadata": {},
   "outputs": [],
   "source": [
    "y_home = dfTeams['goals_scored']\n",
    "y_away = dfTeams['goals_conceded']"
   ]
  },
  {
   "cell_type": "code",
   "execution_count": 34,
   "metadata": {},
   "outputs": [],
   "source": [
    "from sklearn.model_selection import GridSearchCV\n",
    "from sklearn.ensemble import RandomForestRegressor\n",
    "from sklearn.preprocessing import StandardScaler\n",
    "from sklearn.metrics import mean_squared_error, mean_absolute_error, r2_score\n",
    "from sklearn.model_selection import train_test_split"
   ]
  },
  {
   "cell_type": "markdown",
   "metadata": {},
   "source": [
    "Treinamento do modelo"
   ]
  },
  {
   "cell_type": "code",
   "execution_count": 35,
   "metadata": {},
   "outputs": [],
   "source": [
    "# Divisão dos dados em 80% treino e 20% teste\n",
    "X_train, X_test, y_train_casa, y_test_casa = train_test_split(K, y_home, test_size=0.2, random_state=42)\n",
    "_, _, y_train_fora, y_test_fora = train_test_split(K, y_away, test_size=0.2, random_state=42)"
   ]
  },
  {
   "cell_type": "markdown",
   "metadata": {},
   "source": [
    "Normalização das variáveis"
   ]
  },
  {
   "cell_type": "code",
   "execution_count": null,
   "metadata": {},
   "outputs": [],
   "source": [
    "# Normalizando os dados\n",
    "scaler = StandardScaler()\n",
    "K_train_scaled = scaler.fit_transform(X_train)\n",
    "K_test_scaled = scaler.transform(X_test)\n",
    "\n",
    "# Treinamento dos modelos com dados normalizados\n",
    "model_casa.fit(K_train_scaled, y_train_casa)\n",
    "model_fora.fit(K_train_scaled, y_train_fora)"
   ]
  },
  {
   "cell_type": "markdown",
   "metadata": {},
   "source": [
    "Aplicação dos tunnings de hiperparâmetros"
   ]
  },
  {
   "cell_type": "code",
   "execution_count": null,
   "metadata": {},
   "outputs": [],
   "source": [
    "# Definindo o modelo\n",
    "rf_model = RandomForestRegressor(random_state=42)\n",
    "\n",
    "# Definindo a grade de hiperparâmetros\n",
    "param_grid = {\n",
    "    'n_estimators': [100, 200, 300],\n",
    "    'max_depth': [None, 10, 20, 30],\n",
    "    'min_samples_split': [2, 5, 10],\n",
    "    'min_samples_leaf': [1, 2, 4],\n",
    "    'bootstrap': [True, False]\n",
    "}\n",
    "\n",
    "# Inicializando o GridSearchCV para a equipe da casa\n",
    "grid_search_casa = GridSearchCV(estimator=rf_model, param_grid=param_grid, cv=5, n_jobs=-1, verbose=2, scoring='neg_mean_squared_error')\n",
    "grid_search_fora = GridSearchCV(estimator=rf_model, param_grid=param_grid, cv=5, n_jobs=-1, verbose=2, scoring='neg_mean_squared_error')\n",
    "\n",
    "# Treinamento dos modelos com GridSearchCV\n",
    "grid_search_casa.fit(K_train_scaled, y_train_casa)\n",
    "grid_search_fora.fit(K_train_scaled, y_train_fora)\n",
    "\n",
    "# Melhores hiperparâmetros encontrados para o time da casa e o visitante\n",
    "best_params_casa = grid_search_casa.best_params_\n",
    "best_params_fora = grid_search_fora.best_params_\n",
    "\n",
    "print(f\"Melhores hiperparâmetros para o time da casa: {best_params_casa}\")\n",
    "print(f\"Melhores hiperparâmetros para o time visitante: {best_params_fora}\")\n",
    "\n",
    "# Utilizando os melhores modelos\n",
    "best_model_casa = grid_search_casa.best_estimator_\n",
    "best_model_fora = grid_search_fora.best_estimator_"
   ]
  },
  {
   "cell_type": "markdown",
   "metadata": {},
   "source": [
    "Métricas"
   ]
  },
  {
   "cell_type": "code",
   "execution_count": null,
   "metadata": {},
   "outputs": [],
   "source": [
    "# Prever os valores para os dados de teste\n",
    "y_pred_casa = best_model_casa.predict(K_test_scaled)\n",
    "y_pred_fora = best_model_fora.predict(K_test_scaled)\n",
    "\n",
    "# Avaliação do modelo para a equipe da casa\n",
    "mse_casa = mean_squared_error(y_test_casa, y_pred_casa)\n",
    "mae_casa = mean_absolute_error(y_test_casa, y_pred_casa)\n",
    "r2_casa = r2_score(y_test_casa, y_pred_casa)\n",
    "print(f'Modelo Casa (Tuned) - MSE: {mse_casa}, MAE: {mae_casa}, R2: {r2_casa}')\n",
    "\n",
    "# Avaliação do modelo para a equipe visitante\n",
    "mse_fora = mean_squared_error(y_test_fora, y_pred_fora)\n",
    "mae_fora = mean_absolute_error(y_test_fora, y_pred_fora)\n",
    "r2_fora = r2_score(y_test_fora, y_pred_fora)\n",
    "print(f'Modelo Fora (Tuned) - MSE: {mse_fora}, MAE: {mae_fora}, R2: {r2_fora}')"
   ]
  },
  {
   "cell_type": "markdown",
   "metadata": {},
   "source": [
    "Previsão do placar"
   ]
  },
  {
   "cell_type": "code",
   "execution_count": null,
   "metadata": {},
   "outputs": [],
   "source": [
    "# IDs dos times selecionados para a partida\n",
    "time1 = 11  # ID do time da casa\n",
    "time2 = 14  # ID do time visitante\n",
    "\n",
    "# Verificar se os times existem no conjunto de dados\n",
    "if time1 not in dfTeams['common_name_encoded'].values or time2 not in dfTeams['common_name_encoded'].values:\n",
    "    print('Um ou ambos os times não existem.')\n",
    "else:\n",
    "    # Selecionar as características do time da casa e do visitante\n",
    "    time1_features = dfTeams[dfTeams['common_name_encoded'] == time1]\n",
    "    time2_features = dfTeams[dfTeams['common_name_encoded'] == time2]\n",
    "\n",
    "    # Garantir que tenhamos apenas uma linha por time\n",
    "    time1_features = time1_features.iloc[0]\n",
    "    time2_features = time2_features.iloc[0]\n",
    "\n",
    "    # Criar o DataFrame de entrada para o time da casa\n",
    "    novo_jogo_home = pd.DataFrame([{\n",
    "        'losing_at_half_time_percentage': time1_features['losing_at_half_time_percentage'],\n",
    "        'points_per_game_home': time1_features['points_per_game_home'],\n",
    "        'minutes_per_goal_conceded': time1_features['minutes_per_goal_conceded'],\n",
    "        'average_possession_away': time2_features['average_possession_home'],  # Usa a posse média de bola do time visitante\n",
    "        'clean_sheets_home': time1_features['clean_sheets_home'],\n",
    "        'goals_scored_per_match': time1_features['goals_scored_per_match'],\n",
    "        'loss_percentage_ovearll': time1_features['loss_percentage_ovearll'],\n",
    "        'minutes_per_goal_conceded_home': time1_features['minutes_per_goal_conceded_home'],\n",
    "        'goal_difference': time1_features['goal_difference'],\n",
    "        'goals_conceded_per_match_half_time': time2_features['goals_conceded_per_match_half_time'],  # Usa estatísticas defensivas do visitante\n",
    "        'goals_conceded_home': time1_features['goals_conceded_home'],\n",
    "        'fts_half_time_percentage': time1_features['fts_half_time_percentage'],\n",
    "        'win_percentage': time1_features['win_percentage'],\n",
    "        'total_goal_count': time1_features['total_goal_count'],\n",
    "        'wins_home': time1_features['wins_home'],\n",
    "        'losses': time1_features['losses'],\n",
    "        'over35_percentage': time1_features['over35_percentage'],\n",
    "        'minutes_per_goal_scored': time1_features['minutes_per_goal_scored'],\n",
    "        'losing_at_half_time': time1_features['losing_at_half_time'],\n",
    "        'wins': time1_features['wins']\n",
    "    }])\n",
    "\n",
    "    # Criar o DataFrame de entrada para o time visitante\n",
    "    novo_jogo_away = pd.DataFrame([{\n",
    "        'losing_at_half_time_percentage': time2_features['losing_at_half_time_percentage'],\n",
    "        'points_per_game_home': time2_features['points_per_game_away'],  # Aqui estamos usando estatísticas do time visitante\n",
    "        'minutes_per_goal_conceded': time2_features['minutes_per_goal_conceded'],\n",
    "        'average_possession_away': time1_features['average_possession_away'],  # Usa a posse média de bola do time da casa\n",
    "        'clean_sheets_home': time2_features['clean_sheets_away'],\n",
    "        'goals_scored_per_match': time2_features['goals_scored_per_match'],\n",
    "        'loss_percentage_ovearll': time2_features['loss_percentage_ovearll'],\n",
    "        'minutes_per_goal_conceded_home': time2_features['minutes_per_goal_conceded_away'],\n",
    "        'goal_difference': time2_features['goal_difference'],\n",
    "        'goals_conceded_per_match_half_time': time1_features['goals_conceded_per_match_half_time'],  # Usa estatísticas defensivas do time da casa\n",
    "        'goals_conceded_home': time2_features['goals_conceded_away'],\n",
    "        'fts_half_time_percentage': time2_features['fts_half_time_percentage'],\n",
    "        'win_percentage': time2_features['win_percentage'],\n",
    "        'total_goal_count': time2_features['total_goal_count'],\n",
    "        'wins_home': time2_features['wins_away'],\n",
    "        'losses': time2_features['losses'],\n",
    "        'over35_percentage': time2_features['over35_percentage'],\n",
    "        'minutes_per_goal_scored': time2_features['minutes_per_goal_scored'],\n",
    "        'losing_at_half_time': time2_features['losing_at_half_time'],\n",
    "        'wins': time2_features['wins']\n",
    "    }])\n",
    "\n",
    "    # Fazer previsões usando os modelos treinados\n",
    "    gols_casa_predito = model_casa.predict(novo_jogo_home)[0]\n",
    "    gols_fora_predito = model_fora.predict(novo_jogo_away)[0]\n",
    "\n",
    "    print(f'Previsão de Gols Casa: {gols_casa_predito:.2f}')\n",
    "    print(f'Previsão de Gols Fora: {gols_fora_predito:.2f}')\n",
    "\n",
    "    # Arredondar para obter o placar final\n",
    "    placar_casa = round(gols_casa_predito)\n",
    "    placar_fora = round(gols_fora_predito)\n",
    "\n",
    "    print(f'Placar Previsto: {placar_casa} x {placar_fora}')\n"
   ]
  },
  {
   "cell_type": "markdown",
   "metadata": {},
   "source": [
    "# KNN TEAMS"
   ]
  },
  {
   "cell_type": "markdown",
   "metadata": {},
   "source": [
    "Define as variáveis que serão utilizadas para treinar o modelo"
   ]
  },
  {
   "cell_type": "code",
   "execution_count": 40,
   "metadata": {},
   "outputs": [],
   "source": [
    "# Lista de características selecionadas\n",
    "X = dfTeams[[ \n",
    "    'losing_at_half_time_percentage',   # Estatística do time\n",
    "    'points_per_game_home',             # Estatística do time\n",
    "    'minutes_per_goal_conceded',        # Estatística do time\n",
    "    'average_possession_away',          # Estatística do time\n",
    "    'clean_sheets_home',                # Estatística do time\n",
    "    'goals_scored_per_match',           # Estatística do time\n",
    "    'loss_percentage_ovearll',          # Estatística do time\n",
    "    'minutes_per_goal_conceded_home',   # Estatística do time\n",
    "    'goal_difference',                  # Estatística do time\n",
    "    'goals_conceded_per_match_half_time', # Estatística do time\n",
    "    'goals_conceded_home',              # Estatística do time\n",
    "    'fts_half_time_percentage',         # Estatística do time\n",
    "    'win_percentage',                   # Estatística do time\n",
    "    'total_goal_count',                 # Estatística do time\n",
    "    'wins_home',                        # Estatística do time\n",
    "    'losses',                           # Estatística do time\n",
    "    'over35_percentage',                # Estatística do time\n",
    "    'minutes_per_goal_scored',          # Estatística do time\n",
    "    'losing_at_half_time',              # Estatística do time\n",
    "    'wins'                              # Estatística do time\n",
    "]]\n"
   ]
  },
  {
   "cell_type": "markdown",
   "metadata": {},
   "source": [
    "Define as colunas alvo"
   ]
  },
  {
   "cell_type": "code",
   "execution_count": null,
   "metadata": {},
   "outputs": [],
   "source": [
    "# Alvos para gols marcados (home) e gols concedidos (away)\n",
    "y_home = dfTeams['goals_scored']\n",
    "y_away = dfTeams['goals_conceded']"
   ]
  },
  {
   "cell_type": "markdown",
   "metadata": {},
   "source": [
    "Divide e normaliza os dados de treino"
   ]
  },
  {
   "cell_type": "code",
   "execution_count": 42,
   "metadata": {},
   "outputs": [],
   "source": [
    "# Dividindo os dados de treino e teste\n",
    "X_train_home, X_test_home, y_train_home, y_test_home = train_test_split(X, y_home, test_size=0.2, random_state=42)\n",
    "X_train_away, X_test_away, y_train_away, y_test_away = train_test_split(X, y_away, test_size=0.2, random_state=42)\n",
    "\n",
    "# Normalizando os dados\n",
    "scaler = StandardScaler()\n",
    "X_train_home = scaler.fit_transform(X_train_home)\n",
    "X_test_home = scaler.transform(X_test_home)\n",
    "X_train_away = scaler.fit_transform(X_train_away)\n",
    "X_test_away = scaler.transform(X_test_away)"
   ]
  },
  {
   "cell_type": "markdown",
   "metadata": {},
   "source": [
    "Tunnings de hiperparâmetros"
   ]
  },
  {
   "cell_type": "code",
   "execution_count": 43,
   "metadata": {},
   "outputs": [],
   "source": [
    "# Definindo o modelo KNN\n",
    "knn_model_home = KNeighborsRegressor()\n",
    "knn_model_away = KNeighborsRegressor()\n",
    "\n",
    "# Definindo os hiperparâmetros para o GridSearchCV\n",
    "param_grid = {\n",
    "    'n_neighbors': [3, 5, 7, 9],  # Número de vizinhos a considerar\n",
    "    'weights': ['uniform', 'distance'],  # Tipo de ponderação das distâncias\n",
    "    'metric': ['euclidean', 'manhattan', 'minkowski']  # Tipo de métrica de distância\n",
    "}\n",
    "\n",
    "# Grid Search para o time da casa\n",
    "grid_search_home = GridSearchCV(knn_model_home, param_grid, cv=5, scoring='neg_mean_squared_error')\n",
    "grid_search_home.fit(X_train_home, y_train_home)\n",
    "\n",
    "# Melhor modelo para o time da casa\n",
    "best_knn_home = grid_search_home.best_estimator_\n",
    "\n",
    "# Grid Search para o time visitante\n",
    "grid_search_away = GridSearchCV(knn_model_away, param_grid, cv=5, scoring='neg_mean_squared_error')\n",
    "grid_search_away.fit(X_train_away, y_train_away)\n",
    "\n",
    "# Melhor modelo para o time visitante\n",
    "best_knn_away = grid_search_away.best_estimator_"
   ]
  },
  {
   "cell_type": "markdown",
   "metadata": {},
   "source": [
    "Resultados dos tunnings de hiperparâmetros"
   ]
  },
  {
   "cell_type": "code",
   "execution_count": null,
   "metadata": {},
   "outputs": [],
   "source": [
    "# Fazendo previsões usando os melhores modelos\n",
    "y_pred_home_knn = best_knn_home.predict(X_test_home)\n",
    "y_pred_away_knn = best_knn_away.predict(X_test_away)\n",
    "\n",
    "# Avaliando o modelo\n",
    "mse_home_knn = mean_squared_error(y_test_home, y_pred_home_knn)\n",
    "r2_home_knn = r2_score(y_test_home, y_pred_home_knn)\n",
    "\n",
    "mse_away_knn = mean_squared_error(y_test_away, y_pred_away_knn)\n",
    "r2_away_knn = r2_score(y_test_away, y_pred_away_knn)\n",
    "\n",
    "# Resultados após tuning\n",
    "print(f\"Melhor Modelo KNN (Casa) - MSE: {mse_home_knn}, R2: {r2_home_knn}\")\n",
    "print(f\"Melhor Modelo KNN (Fora) - MSE: {mse_away_knn}, R2: {r2_away_knn}\")\n",
    "\n",
    "# Melhor hiperparâmetros\n",
    "print(f\"Melhores Hiperparâmetros (Casa): {grid_search_home.best_params_}\")\n",
    "print(f\"Melhores Hiperparâmetros (Fora): {grid_search_away.best_params_}\")"
   ]
  },
  {
   "cell_type": "markdown",
   "metadata": {},
   "source": [
    "Previsão do placar"
   ]
  },
  {
   "cell_type": "code",
   "execution_count": null,
   "metadata": {},
   "outputs": [],
   "source": [
    "# IDs dos times selecionados para a partida\n",
    "time1 = 11  # ID do time da casa\n",
    "time2 = 14  # ID do time visitante\n",
    "\n",
    "# Verificar se os times existem no conjunto de dados\n",
    "if time1 not in dfTeams['common_name_encoded'].values or time2 not in dfTeams['common_name_encoded'].values:\n",
    "    print('Um ou ambos os times não existem.')\n",
    "else:\n",
    "    # Selecionar as características do time da casa e do visitante\n",
    "    time1_features = dfTeams[dfTeams['common_name_encoded'] == time1]\n",
    "    time2_features = dfTeams[dfTeams['common_name_encoded'] == time2]\n",
    "\n",
    "    # Garantir que tenhamos apenas uma linha por time\n",
    "    time1_features = time1_features.iloc[0]\n",
    "    time2_features = time2_features.iloc[0]\n",
    "\n",
    "    # Criar o DataFrame de entrada para o time da casa\n",
    "    novo_jogo_home_knn = pd.DataFrame([{\n",
    "        'losing_at_half_time_percentage': time1_features['losing_at_half_time_percentage'],\n",
    "        'points_per_game_home': time1_features['points_per_game_home'],\n",
    "        'minutes_per_goal_conceded': time1_features['minutes_per_goal_conceded'],\n",
    "        'average_possession_away': time2_features['average_possession_home'],  # Usa a posse média de bola do time visitante\n",
    "        'clean_sheets_home': time1_features['clean_sheets_home'],\n",
    "        'goals_scored_per_match': time1_features['goals_scored_per_match'],\n",
    "        'loss_percentage_ovearll': time1_features['loss_percentage_ovearll'],\n",
    "        'minutes_per_goal_conceded_home': time1_features['minutes_per_goal_conceded_home'],\n",
    "        'goal_difference': time1_features['goal_difference'],\n",
    "        'goals_conceded_per_match_half_time': time2_features['goals_conceded_per_match_half_time'],  # Usa estatísticas defensivas do visitante\n",
    "        'goals_conceded_home': time1_features['goals_conceded_home'],\n",
    "        'fts_half_time_percentage': time1_features['fts_half_time_percentage'],\n",
    "        'win_percentage': time1_features['win_percentage'],\n",
    "        'total_goal_count': time1_features['total_goal_count'],\n",
    "        'wins_home': time1_features['wins_home'],\n",
    "        'losses': time1_features['losses'],\n",
    "        'over35_percentage': time1_features['over35_percentage'],\n",
    "        'minutes_per_goal_scored': time1_features['minutes_per_goal_scored'],\n",
    "        'losing_at_half_time': time1_features['losing_at_half_time'],\n",
    "        'wins': time1_features['wins']\n",
    "    }])\n",
    "\n",
    "    # Criar o DataFrame de entrada para o time visitante\n",
    "    novo_jogo_away_knn = pd.DataFrame([{\n",
    "        'losing_at_half_time_percentage': time2_features['losing_at_half_time_percentage'],\n",
    "        'points_per_game_home': time2_features['points_per_game_away'],  # Aqui estamos usando estatísticas do time visitante\n",
    "        'minutes_per_goal_conceded': time2_features['minutes_per_goal_conceded'],\n",
    "        'average_possession_away': time1_features['average_possession_away'],  # Usa a posse média de bola do time da casa\n",
    "        'clean_sheets_home': time2_features['clean_sheets_away'],\n",
    "        'goals_scored_per_match': time2_features['goals_scored_per_match'],\n",
    "        'loss_percentage_ovearll': time2_features['loss_percentage_ovearll'],\n",
    "        'minutes_per_goal_conceded_home': time2_features['minutes_per_goal_conceded_away'],\n",
    "        'goal_difference': time2_features['goal_difference'],\n",
    "        'goals_conceded_per_match_half_time': time1_features['goals_conceded_per_match_half_time'],  # Usa estatísticas defensivas do time da casa\n",
    "        'goals_conceded_home': time2_features['goals_conceded_away'],\n",
    "        'fts_half_time_percentage': time2_features['fts_half_time_percentage'],\n",
    "        'win_percentage': time2_features['win_percentage'],\n",
    "        'total_goal_count': time2_features['total_goal_count'],\n",
    "        'wins_home': time2_features['wins_away'],\n",
    "        'losses': time2_features['losses'],\n",
    "        'over35_percentage': time2_features['over35_percentage'],\n",
    "        'minutes_per_goal_scored': time2_features['minutes_per_goal_scored'],\n",
    "        'losing_at_half_time': time2_features['losing_at_half_time'],\n",
    "        'wins': time2_features['wins']\n",
    "    }])\n",
    "\n",
    "    # Normalizar os dados de entrada do novo jogo (com o mesmo scaler usado no treino)\n",
    "    novo_jogo_home_knn_scaled = scaler.transform(novo_jogo_home_knn)\n",
    "    novo_jogo_away_knn_scaled = scaler.transform(novo_jogo_away_knn)\n",
    "\n",
    "    # Fazer previsões usando os melhores modelos ajustados no GridSearch\n",
    "    gols_casa_predito_knn = best_knn_home.predict(novo_jogo_home_knn_scaled)[0]\n",
    "    gols_fora_predito_knn = best_knn_away.predict(novo_jogo_away_knn_scaled)[0]\n",
    "\n",
    "    print(f'Previsão de Gols Casa (KNN): {gols_casa_predito_knn:.2f}')\n",
    "    print(f'Previsão de Gols Fora (KNN): {gols_fora_predito_knn:.2f}')\n",
    "\n",
    "    # Arredondar para obter o placar final\n",
    "    placar_casa_knn = round(gols_casa_predito_knn)\n",
    "    placar_fora_knn = round(gols_fora_predito_knn)\n",
    "\n",
    "    print(f'Placar Previsto (KNN): {placar_casa_knn} x {placar_fora_knn}')\n"
   ]
  },
  {
   "cell_type": "markdown",
   "metadata": {},
   "source": [
    "# Regressao Linear Nova tentativa"
   ]
  },
  {
   "cell_type": "markdown",
   "metadata": {},
   "source": [
    "Com base nos modelos anteriores, refizemos o teste com a regressão linear utilizando uma nova abordagem"
   ]
  },
  {
   "cell_type": "markdown",
   "metadata": {},
   "source": [
    "Divisão entre treinamento e teste"
   ]
  },
  {
   "cell_type": "code",
   "execution_count": 46,
   "metadata": {},
   "outputs": [],
   "source": [
    "# Dividindo os dados em conjuntos de treinamento e teste\n",
    "X_train_home, X_test_home, y_train_home, y_test_home = train_test_split(X, y_home, test_size=0.2, random_state=42)\n",
    "X_train_away, X_test_away, y_train_away, y_test_away = train_test_split(X, y_away, test_size=0.2, random_state=42)"
   ]
  },
  {
   "cell_type": "markdown",
   "metadata": {},
   "source": [
    "Normalização dos dados"
   ]
  },
  {
   "cell_type": "code",
   "execution_count": 47,
   "metadata": {},
   "outputs": [],
   "source": [
    "# Escalando os dados\n",
    "scaler = MinMaxScaler()\n",
    "X_train_home_scaled = scaler.fit_transform(X_train_home)\n",
    "X_test_home_scaled = scaler.transform(X_test_home)\n",
    "X_train_away_scaled = scaler.fit_transform(X_train_away)\n",
    "X_test_away_scaled = scaler.transform(X_test_away)\n",
    "\n",
    "# Definindo o modelo de Regressão Linear\n",
    "lr_home = LinearRegression()\n",
    "lr_away = LinearRegression()\n"
   ]
  },
  {
   "cell_type": "markdown",
   "metadata": {},
   "source": [
    "Tunning de hiperparâmetros"
   ]
  },
  {
   "cell_type": "code",
   "execution_count": null,
   "metadata": {},
   "outputs": [],
   "source": [
    "# Definindo os hiperparâmetros para o GridSearchCV\n",
    "param_grid = {\n",
    "    'fit_intercept': [True, False],  # Se deve ajustar o intercepto\n",
    "    'copy_X': [True, False]          # Se deve copiar X ou não (para desempenho)\n",
    "}\n",
    "\n",
    "# Grid Search para o modelo de gols em casa\n",
    "grid_search_home = GridSearchCV(lr_home, param_grid, cv=5, scoring='neg_mean_squared_error')\n",
    "grid_search_home.fit(X_train_home_scaled, y_train_home)\n",
    "\n",
    "# Melhor modelo para gols em casa\n",
    "best_lr_home = grid_search_home.best_estimator_\n",
    "\n",
    "# Grid Search para o modelo de gols fora\n",
    "grid_search_away = GridSearchCV(lr_away, param_grid, cv=5, scoring='neg_mean_squared_error')\n",
    "grid_search_away.fit(X_train_away_scaled, y_train_away)\n",
    "\n",
    "# Melhor modelo para gols fora\n",
    "best_lr_away = grid_search_away.best_estimator_\n",
    "\n",
    "# Treinando os melhores modelos\n",
    "best_lr_home.fit(X_train_home_scaled, y_train_home)\n",
    "best_lr_away.fit(X_train_away_scaled, y_train_away)"
   ]
  },
  {
   "cell_type": "markdown",
   "metadata": {},
   "source": [
    "Métricas"
   ]
  },
  {
   "cell_type": "code",
   "execution_count": null,
   "metadata": {},
   "outputs": [],
   "source": [
    "# Fazer previsões de gols para o time da casa e visitante\n",
    "y_pred_home_lr = best_lr_home.predict(X_test_home_scaled)\n",
    "y_pred_away_lr = best_lr_away.predict(X_test_away_scaled)\n",
    "\n",
    "# Avaliando o modelo\n",
    "mse_home_lr = mean_squared_error(y_test_home, y_pred_home_lr)\n",
    "r2_home_lr = r2_score(y_test_home, y_pred_home_lr)\n",
    "\n",
    "mse_away_lr = mean_squared_error(y_test_away, y_pred_away_lr)\n",
    "r2_away_lr = r2_score(y_test_away, y_pred_away_lr)\n",
    "\n",
    "# Exibir resultados de MSE e R2 após tuning\n",
    "print(f\"Modelo Regressão Linear (Casa) - MSE: {mse_home_lr:.2f}, R2: {r2_home_lr:.2f}\")\n",
    "print(f\"Modelo Regressão Linear (Fora) - MSE: {mse_away_lr:.2f}, R2: {r2_away_lr:.2f}\")"
   ]
  },
  {
   "cell_type": "markdown",
   "metadata": {},
   "source": [
    "Previsão do placar"
   ]
  },
  {
   "cell_type": "code",
   "execution_count": null,
   "metadata": {},
   "outputs": [],
   "source": [
    "# Previsão do placar para uma partida\n",
    "time1 = 11  # ID do time da casa\n",
    "time2 = 16  # ID do time visitante\n",
    "\n",
    "# Verificar se os times existem no conjunto de dados\n",
    "if time1 not in dfTeams['common_name_encoded'].values or time2 not in dfTeams['common_name_encoded'].values:\n",
    "    print('Um ou ambos os times não existem.')\n",
    "else:\n",
    "    # Selecionar as características do time da casa e do visitante\n",
    "    time1_features = dfTeams[dfTeams['common_name_encoded'] == time1]\n",
    "    time2_features = dfTeams[dfTeams['common_name_encoded'] == time2]\n",
    "\n",
    "    # Garantir que tenhamos apenas uma linha por time\n",
    "    time1_features = time1_features.iloc[0]\n",
    "    time2_features = time2_features.iloc[0]\n",
    "\n",
    "    # Criar o DataFrame de entrada para o time da casa\n",
    "    novo_jogo_home = pd.DataFrame([{\n",
    "        'losing_at_half_time_percentage': time1_features['losing_at_half_time_percentage'],\n",
    "        'points_per_game_home': time1_features['points_per_game_home'],\n",
    "        'minutes_per_goal_conceded': time1_features['minutes_per_goal_conceded'],\n",
    "        'average_possession_away': time2_features['average_possession_home'],\n",
    "        'clean_sheets_home': time1_features['clean_sheets_home'],\n",
    "        'goals_scored_per_match': time1_features['goals_scored_per_match'],\n",
    "        'loss_percentage_ovearll': time1_features['loss_percentage_ovearll'],\n",
    "        'minutes_per_goal_conceded_home': time1_features['minutes_per_goal_conceded_home'],\n",
    "        'goal_difference': time1_features['goal_difference'],\n",
    "        'goals_conceded_per_match_half_time': time2_features['goals_conceded_per_match_half_time'],\n",
    "        'goals_conceded_home': time1_features['goals_conceded_home'],\n",
    "        'fts_half_time_percentage': time1_features['fts_half_time_percentage'],\n",
    "        'win_percentage': time1_features['win_percentage'],\n",
    "        'total_goal_count': time1_features['total_goal_count'],\n",
    "        'wins_home': time1_features['wins_home'],\n",
    "        'losses': time1_features['losses'],\n",
    "        'over35_percentage': time1_features['over35_percentage'],\n",
    "        'minutes_per_goal_scored': time1_features['minutes_per_goal_scored'],\n",
    "        'losing_at_half_time': time1_features['losing_at_half_time'],\n",
    "        'wins': time1_features['wins']\n",
    "    }])\n",
    "\n",
    "    # Criar o DataFrame de entrada para o time visitante\n",
    "    novo_jogo_away = pd.DataFrame([{\n",
    "        'losing_at_half_time_percentage': time2_features['losing_at_half_time_percentage'],\n",
    "        'points_per_game_home': time2_features['points_per_game_away'],\n",
    "        'minutes_per_goal_conceded': time2_features['minutes_per_goal_conceded'],\n",
    "        'average_possession_away': time1_features['average_possession_away'],\n",
    "        'clean_sheets_home': time2_features['clean_sheets_away'],\n",
    "        'goals_scored_per_match': time2_features['goals_scored_per_match'],\n",
    "        'loss_percentage_ovearll': time2_features['loss_percentage_ovearll'],\n",
    "        'minutes_per_goal_conceded_home': time2_features['minutes_per_goal_conceded_away'],\n",
    "        'goal_difference': time2_features['goal_difference'],\n",
    "        'goals_conceded_per_match_half_time': time1_features['goals_conceded_per_match_half_time'],\n",
    "        'goals_conceded_home': time2_features['goals_conceded_away'],\n",
    "        'fts_half_time_percentage': time2_features['fts_half_time_percentage'],\n",
    "        'win_percentage': time2_features['win_percentage'],\n",
    "        'total_goal_count': time2_features['total_goal_count'],\n",
    "        'wins_home': time2_features['wins_away'],\n",
    "        'losses': time2_features['losses'],\n",
    "        'over35_percentage': time2_features['over35_percentage'],\n",
    "        'minutes_per_goal_scored': time2_features['minutes_per_goal_scored'],\n",
    "        'losing_at_half_time': time2_features['losing_at_half_time'],\n",
    "        'wins': time2_features['wins']\n",
    "    }])\n",
    "\n",
    "    # Escalar os dados da nova partida\n",
    "    novo_jogo_home_scaled = scaler.transform(novo_jogo_home)\n",
    "    novo_jogo_away_scaled = scaler.transform(novo_jogo_away)\n",
    "\n",
    "    # Fazer previsões usando os modelos treinados\n",
    "    gols_casa_predito = best_lr_home.predict(novo_jogo_home_scaled)[0]\n",
    "    gols_fora_predito = best_lr_away.predict(novo_jogo_away_scaled)[0]\n",
    "\n",
    "    print(f'Previsão de Gols Casa: {gols_casa_predito:.2f}')\n",
    "    print(f'Previsão de Gols Fora: {gols_fora_predito:.2f}')\n",
    "\n",
    "    # Arredondar para obter o placar final\n",
    "    placar_casa = round(gols_casa_predito)\n",
    "    placar_fora = round(gols_fora_predito)\n",
    "\n",
    "    print(f'Placar Previsto: {placar_casa} x {placar_fora}')\n",
    "    print(time2_features['clean_sheets_away'])"
   ]
  },
  {
   "cell_type": "markdown",
   "metadata": {},
   "source": [
    "Com base nesse notebook, conseguimos concluir que a tabela Matches conseguia trazer previsões mais realistas. Entretanto, as métricas dos modelos que utilizaram a tabela Teams parecem melhor, apesar dos placares absurdos.\n",
    "O objetivo desse arquivo era gerar várias métricas e resultados que poderiam ser analisadas futuramente. Conseguimos perceber que há futuro no modelo de Regressão Linear, mas ainda é necessário verificar qual a melhor tabela a ser utilizada. A tabela Teams está com previsões de placares muito altas, porém, pode haver algum erro na normalização dos dados que fez com que os resultados fossem tão elásticos. Com isso, a comparação foi concluída e está melhor documentada na documentacao.md, mas o modelo ainda passará por verificações futuras"
   ]
  },
  {
   "cell_type": "markdown",
   "metadata": {},
   "source": [
    "Com base nas comparações dos três últimos algoritmos, todos os modelos possuem boas métricas para o time da casa, mas não tão boas para o de fora. Segue os resultados obtidos:\n",
    "Random Forest: Possui métricas para gols fora de casa ruins, como um R² negativo\n",
    "KNN: Possui uma métrica de gols fora ok, como um R² de 0,3\n",
    "Regressão Linear: Possui ótimas métricas de gols fora"
   ]
  },
  {
   "cell_type": "markdown",
   "metadata": {},
   "source": [
    "*Geração da explicabilidade do modelo de Regressão Linear*"
   ]
  },
  {
   "cell_type": "markdown",
   "metadata": {},
   "source": [
    "Grafico Home"
   ]
  },
  {
   "cell_type": "code",
   "execution_count": null,
   "metadata": {},
   "outputs": [],
   "source": [
    "import shap\n",
    "\n",
    "# Criando o explicador SHAP para o time da casa\n",
    "explainer_home = shap.LinearExplainer(best_lr_home, X_train_home_scaled)\n",
    "shap_values_home = explainer_home.shap_values(X_test_home_scaled)\n",
    "\n",
    "# Plot SHAP summary para o time da casa\n",
    "shap.summary_plot(shap_values_home, X_test_home_scaled, feature_names=features_home)\n",
    "\n"
   ]
  },
  {
   "cell_type": "markdown",
   "metadata": {},
   "source": [
    "Grafico Away"
   ]
  },
  {
   "cell_type": "code",
   "execution_count": null,
   "metadata": {},
   "outputs": [],
   "source": [
    "# Criando o explicador SHAP para o time visitante\n",
    "explainer_away = shap.LinearExplainer(best_lr_away, X_train_away_scaled)\n",
    "shap_values_away = explainer_away.shap_values(X_test_away_scaled)\n",
    "\n",
    "# Plot SHAP summary para o time visitante\n",
    "shap.summary_plot(shap_values_away, X_test_away_scaled, feature_names=features_away)"
   ]
  },
  {
   "cell_type": "markdown",
   "metadata": {},
   "source": [
    "O gráfico SHAP visualiza como cada característica de um modelo de aprendizado de máquina contribui para suas previsões, permitindo uma compreensão clara do impacto individual de cada feature nas previsões feitas pelo modelo. No eixo Y estão listadas as características, enquanto o eixo X representa os valores SHAP, que medem a contribuição de cada feature para as previsões. Cada bolinha no gráfico representa uma observação específica do conjunto de dados, com sua posição ao longo do eixo X indicando se a característica teve um efeito positivo ou negativo na previsão. A cor das bolinhas frequentemente reflete o valor da característica, ajudando a identificar padrões de impacto e a variabilidade entre as observações. \n",
    "Através desses gráficos gerados, é possível perceber quais váriaveis estão impactando positivamente ou negativamente o modelo."
   ]
  },
  {
   "cell_type": "markdown",
   "metadata": {},
   "source": [
    "\n",
    "Explicação dos resultados da explicabilidade da previsões de goals_home\n",
    "\n",
    "| Características                                     | Descrição                            |\n",
    "|-----------------------------------------------------|-------------------------------------|\n",
    "| total_goal_count                                    |Todas as bolinhas estão no lado positivo, ou seja, todas impactam positivamente|\n",
    "| goal_difference                                     |Três bolinhas estão do lado positivo, indicando um bom impacto no modelo|\n",
    "| goals_scored_per_match                              |Parece equilibrado, já que duas bolinhas se aproximam bastante do zero e as outras duas estão uma de cada lado|\n",
    "| wins                                                |Apresenta três bolinhas do lado negativo, indicando impacto negativo|\n",
    "| minutes_per_goal_conceded                           |Apresenta todas as bolinhas do lado negativo|\n",
    "\n",
    "\n",
    "Explicação dos resultados da explicabilidade da previsões de goals_away\n",
    "\n",
    "| Características                                     | Descrição                            |\n",
    "|-----------------------------------------------------|-------------------------------------|\n",
    "| total_goal_count                                    |Todas as bolinhas estão no lado positivo, ou seja, todas impactam positivamente|\n",
    "| goal_difference                                     |Três bolinhas estão do lado positivo, indicando um bom impacto no modelo|\n",
    "| goals_scored_per_match                              |Parece equilibrado, já que duas bolinhas se aproximam bastante do zero e as outras duas estão uma de cada lado|\n",
    "| minutes_per_goal_conceded                      |Apresenta todas as bolinhas do lado positivo, o que indica impacto positivo|\n",
    "| losses | Parece equilibrado, já que duas bolinhas se aproximam bastante do zero e as outras duas estão uma de cada lado\n",
    "\n",
    "Acima foram demonstradas apenas as melhores 5 features para cada previsão, mas através do gráfico é possível perceber o quanto todas as features impactam no modelo."
   ]
  }
 ],
 "metadata": {
  "kernelspec": {
   "display_name": "Python 3",
   "language": "python",
   "name": "python3"
  },
  "language_info": {
   "codemirror_mode": {
    "name": "ipython",
    "version": 3
   },
   "file_extension": ".py",
   "mimetype": "text/x-python",
   "name": "python",
   "nbconvert_exporter": "python",
   "pygments_lexer": "ipython3",
   "version": "3.12.6"
  }
 },
 "nbformat": 4,
 "nbformat_minor": 2
}
