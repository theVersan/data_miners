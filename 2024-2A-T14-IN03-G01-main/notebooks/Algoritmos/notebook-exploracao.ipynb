{
  "cells": [
    {
      "cell_type": "markdown",
      "metadata": {},
      "source": [
        "## Esse notebook apresenta a exploração dos dados\n",
        "\n",
        "Através da exploração de dados obtemos a base para criar novas hipóteses, auxiliando na construção do projeto\n",
        "\n",
        "**Tutorial de como rodar esse notebook:**\n",
        "\n",
        "1 - Ter as tabelas colunas-matches.csv e colunas-teams.csv dentro da pasta pre-processamento\n",
        "\n",
        "2 - As bibliotecas necessárias já estão sendo importadas no código, mas se, por algum motivo, não funcionar, instale as bibliotecas no seu computador através do comando **pip install (nome da biblioteca)**\n",
        "\n",
        "3 - Ter o Python instalado"
      ]
    },
    {
      "cell_type": "code",
      "execution_count": 1,
      "metadata": {
        "id": "856OlR3A-tDW"
      },
      "outputs": [],
      "source": [
        "import pandas as pd\n",
        "import numpy as np\n",
        "import matplotlib.pyplot as plt"
      ]
    },
    {
      "cell_type": "code",
      "execution_count": 2,
      "metadata": {},
      "outputs": [],
      "source": [
        "def download_file_from_google_drive(file_id, destination):\n",
        "    URL = \"https://drive.google.com/uc?export=download&id=1qiTJwkhoUP9WgUtqyd0IMDpA3B-VRGuT\""
      ]
    },
    {
      "cell_type": "code",
      "execution_count": 3,
      "metadata": {},
      "outputs": [],
      "source": [
        "def download_file_from_google_drive(file_id, destination):\n",
        "    URL = \"https://drive.google.com/uc?export=download&id=18VnpJxr3j7-ba5blNmo1HnAyepkItbkr\""
      ]
    },
    {
      "cell_type": "code",
      "execution_count": 4,
      "metadata": {
        "id": "Qska8xu8-809"
      },
      "outputs": [],
      "source": [
        "matches = pd.read_csv('https://drive.google.com/uc?export=download&id=1qiTJwkhoUP9WgUtqyd0IMDpA3B-VRGuT', delimiter=';')\n",
        "teams_1 = pd.read_csv('https://drive.google.com/uc?export=download&id=18VnpJxr3j7-ba5blNmo1HnAyepkItbkr')"
      ]
    },
    {
      "cell_type": "code",
      "execution_count": 5,
      "metadata": {
        "id": "k2hfd3jM-_uL"
      },
      "outputs": [],
      "source": [
        "colunas_teams = teams_1[['team_name', 'wins_home', 'wins_away', 'draws_home', 'draws_away', 'losses_home', 'losses_away', 'goals_scored_home', 'goals_scored_away', 'goals_conceded_home', 'goals_conceded_away', 'clean_sheets_home', 'clean_sheets_away', 'first_team_to_score_count_home', 'first_team_to_score_count_away']]\n",
        "colunas_matches = matches[['date_GMT', 'status', 'home_team_name', 'away_team_name', 'home_team_goal_count', 'away_team_goal_count', 'total_goals_at_half_time', 'home_team_goal_count_half_time', 'home_team_goal_timings', 'away_team_goal_timings', 'home_team_shots', 'away_team_shots', 'home_team_shots_on_target', 'away_team_shots_on_target', 'home_team_possession', 'away_team_possession']]"
      ]
    },
    {
      "cell_type": "markdown",
      "metadata": {},
      "source": [
        "A seguir, está a identificação da natureza dos dados (numérica ou categórica) de cada coluna do dataframe:"
      ]
    },
    {
      "cell_type": "code",
      "execution_count": null,
      "metadata": {
        "id": "PB25OxSQ_Jbo"
      },
      "outputs": [],
      "source": [
        "colunas_teams.dtypes\n",
        "colunas_matches.dtypes\n"
      ]
    },
    {
      "cell_type": "markdown",
      "metadata": {
        "id": "M6Wi23Zp_i65"
      },
      "source": [
        "Identificação de colunas numéricas"
      ]
    },
    {
      "cell_type": "code",
      "execution_count": null,
      "metadata": {
        "id": "5RNMaYjc_Z8T"
      },
      "outputs": [],
      "source": [
        "numericas_teams = colunas_teams.select_dtypes(include=[np.number])\n",
        "print(numericas_teams.columns)"
      ]
    },
    {
      "cell_type": "markdown",
      "metadata": {},
      "source": [
        "Concluímos, portanto, que as colunas numéricas da tabela dos times são:\n",
        "    \n",
        "    wins_home,\n",
        "    wins_away,\n",
        "    draws_home,\n",
        "    draws_away,\n",
        "    losses_home,\n",
        "    losses_away,\n",
        "    goals_scored_home,\n",
        "    goals_scored_away,\n",
        "    goals_conceded_home,\n",
        "    goals_conceded_away,\n",
        "    clean_sheets_home,\n",
        "    clean_sheets_away,\n",
        "    first_team_to_score_count_home,\n",
        "    first_team_to_score_count_away\n"
      ]
    },
    {
      "cell_type": "code",
      "execution_count": null,
      "metadata": {
        "id": "4D-MVI8A_dds"
      },
      "outputs": [],
      "source": [
        "numericas_matches = colunas_matches.select_dtypes(include=[np.number])\n",
        "print(numericas_matches.columns)"
      ]
    },
    {
      "cell_type": "markdown",
      "metadata": {},
      "source": [
        "Concluímos, portanto, que as colunas numéricas da tabela das partidas são:\n",
        "    home_team_goal_count,\n",
        "    away_team_goal_count,\n",
        "    total_goals_at_half_time,\n",
        "    home_team_goal_count_half_time,\n",
        "    home_team_shots,\n",
        "    away_team_shots,\n",
        "    home_team_shots_on_target,\n",
        "    away_team_shots_on_target,\n",
        "    home_team_posession,\n",
        "    away_team_posession"
      ]
    },
    {
      "cell_type": "markdown",
      "metadata": {
        "id": "KWCz7ujd_oSa"
      },
      "source": [
        "Identificação de colunas categóricas"
      ]
    },
    {
      "cell_type": "code",
      "execution_count": null,
      "metadata": {
        "id": "fyyec2ZE_tPA"
      },
      "outputs": [],
      "source": [
        "categoricas_matches = colunas_matches.select_dtypes(include=[object])\n",
        "print(categoricas_matches.columns)"
      ]
    },
    {
      "cell_type": "markdown",
      "metadata": {
        "id": "EZ3zpXAl_xyz"
      },
      "source": [
        "Agora que sabemos quais colunas dentre as selecionadas são numéricas e quais são categóricas, podemos analisar seus dados"
      ]
    },
    {
      "cell_type": "code",
      "execution_count": null,
      "metadata": {
        "id": "DpKNeg2H_0Pk"
      },
      "outputs": [],
      "source": [
        "numericas_matches.describe()"
      ]
    },
    {
      "cell_type": "code",
      "execution_count": null,
      "metadata": {
        "id": "PhoJgMeu_9UF"
      },
      "outputs": [],
      "source": [
        "numericas_teams.describe()"
      ]
    },
    {
      "cell_type": "code",
      "execution_count": null,
      "metadata": {
        "id": "pfWeIA3MAON3"
      },
      "outputs": [],
      "source": [
        "categoricas_matches.info()\n",
        "categoricas_matches.value_counts()"
      ]
    },
    {
      "cell_type": "markdown",
      "metadata": {
        "id": "V1TqWzJYAcmP"
      },
      "source": [
        "Agora podemos gerar os gráficos que facilitarão o entendimento das relações entre as colunas escolhidas e como uma estatística pode fortemente impactar em outra (calebe se vc quiser pode ficar com essa parte pq eu não sei se oq eu fiz aq ta bom)"
      ]
    },
    {
      "cell_type": "code",
      "execution_count": 13,
      "metadata": {
        "id": "t5guomwMAdVL"
      },
      "outputs": [],
      "source": [
        "colunas_interesse = colunas_teams[['team_name', 'goals_scored_home', 'goals_scored_away']]\n",
        "colunas_interesse.set_index('team_name', inplace=True)"
      ]
    },
    {
      "cell_type": "code",
      "execution_count": null,
      "metadata": {
        "id": "2CFOzopYAo_x"
      },
      "outputs": [],
      "source": [
        "colunas_interesse.plot(kind='bar', figsize=(14, 8))\n",
        "\n",
        "plt.title('Relação gols marcados dentro e fora de casa')\n",
        "plt.xlabel('Clube')\n",
        "plt.ylabel('Número de gols')\n",
        "plt.show()"
      ]
    },
    {
      "cell_type": "code",
      "execution_count": null,
      "metadata": {},
      "outputs": [],
      "source": [
        "# Selecionar as colunas relevantes\n",
        "gols_feitos = colunas_teams['goals_scored_home'] + colunas_teams['goals_scored_away']\n",
        "gols_tomados = colunas_teams['goals_conceded_home'] + colunas_teams['goals_conceded_away']\n",
        "\n",
        "# Criar o DataFrame para o gráfico de dispersão\n",
        "df_gols = pd.DataFrame({\n",
        "    'Gols Feitos': gols_feitos,\n",
        "    'Gols Tomados': gols_tomados\n",
        "})\n",
        "\n",
        "# Gerar o gráfico de dispersão\n",
        "df_gols.plot.scatter(x='Gols Feitos', y='Gols Tomados', title='Relação entre Gols Feitos e Gols Tomados')"
      ]
    },
    {
      "cell_type": "markdown",
      "metadata": {
        "id": "CBExT1WhAs-8"
      },
      "source": [
        "Essas variáveis ajudam a entender a efetividade ofensiva de um time jogando em casa versus fora. Times com mais chutes a gol ou maior posse de bola tendem a ter maior probabilidade de marcar o primeiro gol."
      ]
    },
    {
      "cell_type": "code",
      "execution_count": null,
      "metadata": {
        "id": "XGecsxT4At98"
      },
      "outputs": [],
      "source": [
        "# Criar gráfico de dispersão para chutes a gol\n",
        "plt.figure(figsize=(14, 8))\n",
        "plt.scatter(colunas_matches['home_team_shots_on_target'], colunas_matches['away_team_shots_on_target'], alpha=0.5, c='blue')\n",
        "\n",
        "# Adicionar título e rótulos\n",
        "plt.title('Chutes a Gol: Time da Casa vs. Time Visitante')\n",
        "plt.xlabel('Chutes a Gol - Time da Casa')\n",
        "plt.ylabel('Chutes a Gol - Time Visitante')\n",
        "\n",
        "# Exibir gráfico\n",
        "plt.grid(True)\n",
        "plt.show()"
      ]
    },
    {
      "cell_type": "markdown",
      "metadata": {
        "id": "YiVPitJrAx3e"
      },
      "source": [
        "Cada ponto no gráfico representa uma partida, com a posição x representando os chutes a gol do time da casa e a posição y representando os chutes a gol do time visitante. Aqui podemos ver como os chutes a gol e a posse de bola se distribuem entre os times da casa e visitantes, com pontos dispersos representando cada partida."
      ]
    },
    {
      "cell_type": "code",
      "execution_count": null,
      "metadata": {
        "id": "Q_dgLI_6Ayfz"
      },
      "outputs": [],
      "source": [
        "# Agrupar os dados por time e calcular a média das métricas de interesse\n",
        "df_comparativo_posse = matches.groupby('home_team_name').agg({\n",
        "    'home_team_possession': 'mean',\n",
        "    'away_team_possession': 'mean',\n",
        "}).reset_index()\n",
        "\n",
        "# Criar gráfico de barras lado a lado para posse de bola\n",
        "df_comparativo_posse.set_index('home_team_name', inplace=True)\n",
        "df_comparativo_posse.plot(kind='bar', figsize=(14, 8))\n",
        "\n",
        "plt.title('Comparação de Posse de Bola: Time da Casa vs. Time Visitante')\n",
        "plt.xlabel('Time')\n",
        "plt.ylabel('Posse de Bola (%)')\n",
        "plt.xticks(rotation=45, ha='right')\n",
        "plt.legend(['Time da Casa', 'Time Visitante'])\n",
        "plt.tight_layout()\n",
        "\n",
        "plt.show()"
      ]
    },
    {
      "cell_type": "markdown",
      "metadata": {
        "id": "P9Q7yPWbA0gZ"
      },
      "source": [
        "O gráfico mostrará barras lado a lado para cada time, comparando a posse de bola entre times da casa e visitantes, facilitando a análise visual das diferenças."
      ]
    },
    {
      "cell_type": "code",
      "execution_count": null,
      "metadata": {},
      "outputs": [],
      "source": [
        "# Selecionar as colunas relevantes\n",
        "gols_feitos = colunas_teams['goals_scored_home'] + colunas_teams['goals_scored_away']\n",
        "gols_tomados = colunas_teams['goals_conceded_home'] + colunas_teams['goals_conceded_away']\n",
        "\n",
        "# Criar o DataFrame para o gráfico de dispersão\n",
        "df_gols = pd.DataFrame({\n",
        "    'Gols Feitos': gols_feitos,\n",
        "    'Gols Tomados': gols_tomados\n",
        "})\n",
        "\n",
        "# Gerar o gráfico de dispersão\n",
        "df_gols.plot.scatter(x='Gols Feitos', y='Gols Tomados', title='Relação entre Gols Feitos e Gols Tomados')"
      ]
    },
    {
      "cell_type": "code",
      "execution_count": null,
      "metadata": {},
      "outputs": [],
      "source": [
        "import matplotlib.pyplot as plt\n",
        "file_path = 'pre-processamento/colunas-teams.csv'\n",
        "data = pd.read_csv(file_path)\n",
        "\n",
        "# Obtém os nomes dos times e a respectiva contagem de 'first_team_to_score_count'\n",
        "teams_with_scores = data[['team_name', 'first_team_to_score_count']].dropna()\n",
        "\n",
        "# Converte para um dicionário\n",
        "teams_with_scores_dict = teams_with_scores.set_index('team_name').to_dict()['first_team_to_score_count']\n",
        "teams_with_scores_dict\n",
        "\n",
        "# Ordena os times pela contagem de 'first_team_to_score_count' para melhor visualização\n",
        "teams_sorted = teams_with_scores.sort_values('first_team_to_score_count', ascending=False)\n",
        "\n",
        "# Cria o gráfico de barras\n",
        "plt.figure(figsize=(12, 8))\n",
        "plt.barh(teams_sorted['team_name'], teams_sorted['first_team_to_score_count'], color='skyblue')\n",
        "plt.xlabel('Frequência') \n",
        "plt.ylabel('Times')\n",
        "plt.title('Primeiro Time a Marcar Gol por Time')\n",
        "plt.gca().invert_yaxis()  # Inverte o eixo y para colocar o time com a maior contagem no topo\n",
        "plt.show()\n"
      ]
    },
    {
      "cell_type": "markdown",
      "metadata": {},
      "source": [
        "O gráfico acima mostra quais foram os times que mais fizeram gols primeiro no campeonato."
      ]
    }
  ],
  "metadata": {
    "colab": {
      "provenance": [],
      "toc_visible": true
    },
    "kernelspec": {
      "display_name": "Python 3",
      "name": "python3"
    },
    "language_info": {
      "codemirror_mode": {
        "name": "ipython",
        "version": 3
      },
      "file_extension": ".py",
      "mimetype": "text/x-python",
      "name": "python",
      "nbconvert_exporter": "python",
      "pygments_lexer": "ipython3",
      "version": "3.12.6"
    }
  },
  "nbformat": 4,
  "nbformat_minor": 0
}
