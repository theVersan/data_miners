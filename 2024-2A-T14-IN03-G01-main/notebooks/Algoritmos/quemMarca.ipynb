{
 "cells": [
  {
   "cell_type": "markdown",
   "metadata": {},
   "source": [
    "## Esse notebook apresenta o algoritmo que prevê o time que marcará o primeiro gol\n",
    "\n",
    "Utilizando o algoritmo Random Forest Classifier, foi desenvolvido um modelo que prevê qual time marcará o primeiro gol em uma partida.\n",
    "\n",
    "**Tutorial de como rodar esse notebook:**\n",
    "\n",
    "1 - Primeiro, é necessário rodar o notebook 'notebooks/pre-processamento/pre-processamento.ipynb', para que as tabelas utilizadas neste arquivo sejam geradas corretamente.\n",
    "\n",
    "2 - As bibliotecas necessárias já estão sendo importadas no código, mas se, por algum motivo, não funcionar, instale as bibliotecas no seu computador através do comando **pip install (nome da biblioteca)**\n",
    "\n",
    "3 - Ter o Python instalado"
   ]
  },
  {
   "cell_type": "markdown",
   "metadata": {},
   "source": [
    "Importação das bibliotecas"
   ]
  },
  {
   "cell_type": "code",
   "execution_count": 289,
   "metadata": {},
   "outputs": [],
   "source": [
    "import pandas as pd\n",
    "from sklearn.metrics import accuracy_score, confusion_matrix, classification_report\n",
    "from sklearn.model_selection import train_test_split\n",
    "from sklearn.ensemble import RandomForestClassifier\n",
    "from sklearn.model_selection import cross_val_score\n",
    "from sklearn.linear_model import Ridge\n",
    "import matplotlib as plt"
   ]
  },
  {
   "cell_type": "markdown",
   "metadata": {},
   "source": [
    "Carrega a tabela"
   ]
  },
  {
   "cell_type": "code",
   "execution_count": 290,
   "metadata": {},
   "outputs": [],
   "source": [
    "# Carregar o arquivo CSV\n",
    "df_teams = pd.read_csv('../pre-processamento/dfTeams.csv')"
   ]
  },
  {
   "cell_type": "markdown",
   "metadata": {},
   "source": [
    "Seleciona as colunas mais relevantes"
   ]
  },
  {
   "cell_type": "markdown",
   "metadata": {},
   "source": [
    "Pensando que o objetivo do modelo é acertar qual time marcará o primeiro gol, é interessante selecionar colunas que representam o quão rápido os times costumam marcar, mas além disso, é importante expandir as variáveis para entender quais times costumam ganhar ou perder mais.\n",
    "\n",
    "Vários testes foram realizados com adição e remoção de features, segue abaixo as selecionadas:"
   ]
  },
  {
   "cell_type": "code",
   "execution_count": 291,
   "metadata": {},
   "outputs": [],
   "source": [
    "# Criando a variável-alvo: 1 se o time da casa marcou mais gols nos primeiros 10 minutos, 0 se foi o time visitante.\n",
    "df_teams['first_goal_home'] = df_teams.apply(\n",
    "    lambda row: 1 if row['goals_scored_min_0_to_10'] > row['goals_conceded_min_0_to_10'] else 0, axis=1\n",
    ")\n",
    "\n",
    "# Selecionando colunas relevantes para a modelagem\n",
    "colunas_relevantes = [\n",
    "    'goals_scored_min_0_to_10', 'goals_conceded_min_0_to_10',\n",
    "    'goals_scored_min_11_to_20', 'goals_conceded_min_11_to_20', 'wins_home', 'wins_away',\n",
    "    'loss_percentage_home', 'loss_percentage_away', 'over35_percentage'\n",
    "]\n",
    "\n",
    "# Criando um DataFrame com as colunas selecionadas e a variável-alvo\n",
    "df_model = df_teams[colunas_relevantes + ['first_goal_home']]\n",
    "\n",
    "# Removendo valores nulos\n",
    "df_model = df_model.dropna()\n"
   ]
  },
  {
   "cell_type": "markdown",
   "metadata": {},
   "source": [
    "Separa os dados entre treinamento e teste"
   ]
  },
  {
   "cell_type": "code",
   "execution_count": 292,
   "metadata": {},
   "outputs": [],
   "source": [
    "# Separar os dados em treino e teste\n",
    "X = df_model.drop('first_goal_home', axis=1)\n",
    "y = df_model['first_goal_home']\n",
    "\n",
    "X_train, X_test, y_train, y_test = train_test_split(X, y, test_size=0.3, random_state=42)\n",
    "model = RandomForestClassifier(n_estimators=50, random_state=42)\n",
    "\n",
    "# Treinar o modelo com os dados de treino\n",
    "model.fit(X_train, y_train)\n",
    "\n",
    "# Avaliar o modelo nos dados de teste\n",
    "y_pred = model.predict(X_test)\n"
   ]
  },
  {
   "cell_type": "markdown",
   "metadata": {},
   "source": [
    "Correção das variáveis"
   ]
  },
  {
   "cell_type": "code",
   "execution_count": null,
   "metadata": {},
   "outputs": [],
   "source": [
    "# Usar validação cruzada com 5 divisões (folds)\n",
    "scores = cross_val_score(model, X, y, cv=5)\n",
    "\n",
    "# Exibir as métricas de cada divisão\n",
    "print(f'Scores de validação cruzada: {scores}')\n",
    "print(f'Média dos scores: {scores.mean()}')\n"
   ]
  },
  {
   "cell_type": "code",
   "execution_count": null,
   "metadata": {},
   "outputs": [],
   "source": [
    "# Treinar o modelo Ridge com regularização\n",
    "model = Ridge(alpha=1.0)\n",
    "model.fit(X_train, y_train)\n"
   ]
  },
  {
   "cell_type": "code",
   "execution_count": null,
   "metadata": {},
   "outputs": [],
   "source": [
    "# Calcular a matriz de correlação\n",
    "corr_matrix = df_model.corr()\n",
    "\n",
    "# Exibir a matriz de correlação\n",
    "print(corr_matrix)\n"
   ]
  },
  {
   "cell_type": "markdown",
   "metadata": {},
   "source": [
    "Métricas do modelo"
   ]
  },
  {
   "cell_type": "code",
   "execution_count": null,
   "metadata": {},
   "outputs": [],
   "source": [
    "# Avaliando o desempenho do modelo\n",
    "accuracy = accuracy_score(y_test, y_pred)\n",
    "conf_matrix = confusion_matrix(y_test, y_pred)\n",
    "class_report = classification_report(y_test, y_pred)\n",
    "\n",
    "# Exibindo os resultados\n",
    "print(f'Acurácia: {accuracy}')\n",
    "print('Matriz de Confusão:')\n",
    "print(conf_matrix)\n",
    "print('Relatório de Classificação:')\n",
    "print(class_report)"
   ]
  },
  {
   "cell_type": "code",
   "execution_count": null,
   "metadata": {},
   "outputs": [],
   "source": [
    "# Ajustar o parâmetro de profundidade máxima para evitar overfitting\n",
    "model = RandomForestClassifier(max_depth=5)\n",
    "model.fit(X_train, y_train)\n"
   ]
  },
  {
   "cell_type": "markdown",
   "metadata": {},
   "source": [
    "Previsão de que time marcará o primeiro gol"
   ]
  },
  {
   "cell_type": "code",
   "execution_count": 298,
   "metadata": {},
   "outputs": [],
   "source": [
    "def predict_first_goal(home_team_encoded, away_team_encoded, df_teams, model):\n",
    "    # Filtrar as estatísticas do time da casa e visitante pelos IDs codificados\n",
    "    home_stats = df_teams[df_teams['common_name_encoded'] == home_team_encoded].iloc[0]\n",
    "    away_stats = df_teams[df_teams['common_name_encoded'] == away_team_encoded].iloc[0]\n",
    "\n",
    "    # Criar um DataFrame para a nova partida\n",
    "    match_data = pd.DataFrame({\n",
    "        'goals_scored_min_0_to_10': [home_stats['goals_scored_min_0_to_10']],\n",
    "        'goals_conceded_min_0_to_10': [away_stats['goals_conceded_min_0_to_10']],\n",
    "        'goals_scored_min_11_to_20': [home_stats['goals_scored_min_11_to_20']],\n",
    "        'goals_conceded_min_11_to_20': [away_stats['goals_conceded_min_11_to_20']],\n",
    "        'wins_home': [home_stats['wins_home']],\n",
    "        'wins_away': [away_stats['wins_away']],\n",
    "        'loss_percentage_home': [home_stats['loss_percentage_home']],\n",
    "        'loss_percentage_away': [away_stats['loss_percentage_away']],\n",
    "        'over35_percentage': [home_stats['over35_percentage']]\n",
    "    })\n",
    "\n",
    "    # Fazer a previsão\n",
    "    prediction = model.predict(match_data)\n",
    "    # Retornar o resultado\n",
    "    if prediction == 1:\n",
    "        return f\"O time da casa ({home_team_encoded}) marcará o primeiro gol.\"\n",
    "    else:\n",
    "        return f\"O time visitante ({away_team_encoded}) marcará o primeiro gol.\"\n"
   ]
  },
  {
   "cell_type": "markdown",
   "metadata": {},
   "source": [
    "Resultado do time que marcará o primeiro gol"
   ]
  },
  {
   "cell_type": "code",
   "execution_count": null,
   "metadata": {},
   "outputs": [],
   "source": [
    "home_team_encoded = 1 # Código do time da casa\n",
    "away_team_encoded = 1  # Código do time visitante\n",
    "\n",
    "result = predict_first_goal(home_team_encoded, away_team_encoded, df_teams, model)\n",
    "print(result)\n"
   ]
  }
 ],
 "metadata": {
  "kernelspec": {
   "display_name": "Python 3",
   "language": "python",
   "name": "python3"
  },
  "language_info": {
   "codemirror_mode": {
    "name": "ipython",
    "version": 3
   },
   "file_extension": ".py",
   "mimetype": "text/x-python",
   "name": "python",
   "nbconvert_exporter": "python",
   "pygments_lexer": "ipython3",
   "version": "3.12.6"
  }
 },
 "nbformat": 4,
 "nbformat_minor": 2
}
