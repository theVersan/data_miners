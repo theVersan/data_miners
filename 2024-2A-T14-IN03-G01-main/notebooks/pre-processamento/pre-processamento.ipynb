{
 "cells": [
  {
   "cell_type": "markdown",
   "metadata": {},
   "source": [
    "## Pré-Processamento\n",
    "\n",
    "Esse notebook contém o pré-processamento de 3 tabelas (Matches, Players e Teams) e, por fim, a união delas.\n",
    "\n",
    "**Tutorial de como rodar esse notebook:**\n",
    "\n",
    "1 - As bibliotecas necessárias já estão sendo importadas no código, mas se, por algum motivo, não funcionar, instale as bibliotecas no seu computador através do comando **pip install (nome da biblioteca)**\n",
    "\n",
    "2 - Ter o Python instalado"
   ]
  },
  {
   "cell_type": "code",
   "execution_count": 1,
   "metadata": {},
   "outputs": [],
   "source": [
    "# Importando as bibliotecas\n",
    "import pandas as pd\n",
    "import matplotlib as plt\n",
    "import numpy as np\n",
    "import matplotlib.pyplot as plt\n",
    "import seaborn as sns\n",
    "from sklearn.ensemble import RandomForestRegressor\n",
    "from sklearn.model_selection import train_test_split\n",
    "from sklearn.preprocessing import LabelEncoder\n"
   ]
  },
  {
   "cell_type": "markdown",
   "metadata": {},
   "source": [
    "Carrega as tabelas"
   ]
  },
  {
   "cell_type": "code",
   "execution_count": 2,
   "metadata": {},
   "outputs": [],
   "source": [
    "def download_file_from_google_drive(file_id, destination):\n",
    "    URL = \"https://drive.google.com/uc?id=1NH39rh-7pBVQQU28RtrbG8fgjRR1jXbN&export=download\"\n"
   ]
  },
  {
   "cell_type": "code",
   "execution_count": 3,
   "metadata": {},
   "outputs": [],
   "source": [
    "def download_file_from_google_drive(file_id, destination):\n",
    "    URL = \"https://drive.google.com/uc?id=1uVRFcDySx3-J0YNsn-jsm7xv84CT1ARG&export=download\""
   ]
  },
  {
   "cell_type": "code",
   "execution_count": 4,
   "metadata": {},
   "outputs": [],
   "source": [
    "def download_file_from_google_drive(file_id, destination):\n",
    "    URL = \"https://drive.google.com/uc?id=1xOalsah4MwE0-Ib-f4Bk2H6haPwfTXGi&export=download\""
   ]
  },
  {
   "cell_type": "code",
   "execution_count": 5,
   "metadata": {},
   "outputs": [],
   "source": [
    "# Carregando o arquivo colunas-matches\n",
    "dfPlayers = pd.read_csv('https://drive.google.com/uc?id=1NH39rh-7pBVQQU28RtrbG8fgjRR1jXbN&export=download')\n",
    "dfTeams = pd.read_csv('https://drive.google.com/uc?id=1uVRFcDySx3-J0YNsn-jsm7xv84CT1ARG&export=download')\n",
    "dfMatches = pd.read_csv('https://drive.google.com/uc?id=1xOalsah4MwE0-Ib-f4Bk2H6haPwfTXGi&export=download', delimiter=';')"
   ]
  },
  {
   "cell_type": "markdown",
   "metadata": {},
   "source": [
    "# Tratamento de dados"
   ]
  },
  {
   "cell_type": "markdown",
   "metadata": {},
   "source": [
    "Limpeza de dados nulos"
   ]
  },
  {
   "cell_type": "code",
   "execution_count": null,
   "metadata": {},
   "outputs": [],
   "source": [
    "# Definir a porcentagem mínima de valores não-nulos (30% de NaN significa 70% de valores ausentes)\n",
    "threshold = int(dfPlayers.shape[1] * 0.3)\n",
    "\n",
    "# Remover as linhas que têm mais de 70% de valores NaN\n",
    "dfPlayers = dfPlayers.dropna(thresh=threshold)\n",
    "\n",
    "# Exibir o DataFrame final\n",
    "print(dfPlayers)"
   ]
  },
  {
   "cell_type": "code",
   "execution_count": 7,
   "metadata": {},
   "outputs": [],
   "source": [
    "# Excluir colunas que são 100% iguais a 0\n",
    "dfPlayers = dfPlayers.loc[:, ~(dfPlayers == 0).all()] "
   ]
  },
  {
   "cell_type": "markdown",
   "metadata": {},
   "source": [
    "Escolhendo apenas os jogos que já aconteceram"
   ]
  },
  {
   "cell_type": "code",
   "execution_count": 8,
   "metadata": {},
   "outputs": [],
   "source": [
    "# Filtrando o DataFrame para manter apenas as linhas onde o status é 'completed'\n",
    "dfMatches = dfMatches[dfMatches['status'] == 'complete']"
   ]
  },
  {
   "cell_type": "markdown",
   "metadata": {},
   "source": [
    "**Codificação das variáveis categóricas**"
   ]
  },
  {
   "cell_type": "code",
   "execution_count": 9,
   "metadata": {},
   "outputs": [],
   "source": [
    "#Transformando coluna categórica em uma coluna numérica\n",
    "label_encoder = LabelEncoder()\n",
    "dfPlayers['full_name_encoded'] = label_encoder.fit_transform(dfPlayers['full_name'])"
   ]
  },
  {
   "cell_type": "code",
   "execution_count": null,
   "metadata": {},
   "outputs": [],
   "source": [
    "#mapeando numeração de cada time\n",
    "mapeamento_players = dict(zip(label_encoder.classes_, label_encoder.transform(label_encoder.classes_)))\n",
    "print(mapeamento_players)"
   ]
  },
  {
   "cell_type": "code",
   "execution_count": 11,
   "metadata": {},
   "outputs": [],
   "source": [
    "#Transformando coluna categórica em uma coluna numérica\n",
    "label_encoder = LabelEncoder()\n",
    "dfTeams['common_name_encoded'] = label_encoder.fit_transform(dfTeams['common_name'])"
   ]
  },
  {
   "cell_type": "code",
   "execution_count": null,
   "metadata": {},
   "outputs": [],
   "source": [
    "#mapeando numeração de cada time\n",
    "mapeamento_times = dict(zip(label_encoder.classes_, label_encoder.transform(label_encoder.classes_)))\n",
    "print(mapeamento_times)"
   ]
  },
  {
   "cell_type": "markdown",
   "metadata": {},
   "source": [
    "Mapeamento das variáveis númericas para que entendamos o resultado."
   ]
  },
  {
   "cell_type": "code",
   "execution_count": null,
   "metadata": {},
   "outputs": [],
   "source": [
    "# Dicionário de mapeamento para os times\n",
    "team_mapping = {\n",
    "    'Atlético GO': 0, 'Atlético Mineiro': 1, 'Atlético PR': 2, 'Bahia': 3, 'Botafogo': 4,\n",
    "    'Bragantino': 5, 'Corinthians': 6, 'Criciúma': 7, 'Cruzeiro': 8, 'Cuiabá': 9,\n",
    "    'Flamengo': 10, 'Fluminense': 11, 'Fortaleza': 12, 'Grêmio': 13, 'Internacional': 14,\n",
    "    'Juventude': 15, 'Palmeiras': 16, 'São Paulo': 17, 'Vasco da Gama': 18, 'Vitória': 19\n",
    "}\n",
    "\n",
    "# Aplicando o mapeamento às colunas 'home_team_name' e 'away_team_name'\n",
    "dfMatches['home_team_name'] = dfMatches['home_team_name'].replace(team_mapping)\n",
    "dfMatches['away_team_name'] = dfMatches['away_team_name'].replace(team_mapping)\n",
    "\n",
    "# Exibindo as primeiras linhas do DataFrame após a transformação\n",
    "dfMatches.head()"
   ]
  },
  {
   "cell_type": "code",
   "execution_count": 14,
   "metadata": {},
   "outputs": [],
   "source": [
    "#Transformando coluna categórica em uma coluna numérica\n",
    "label_encoder = LabelEncoder()\n",
    "dfPlayers['nationality_encoded'] = label_encoder.fit_transform(dfPlayers['nationality'])"
   ]
  },
  {
   "cell_type": "code",
   "execution_count": null,
   "metadata": {},
   "outputs": [],
   "source": [
    "#mapeando numeração de cada time\n",
    "mapeamento_nationality = dict(zip(label_encoder.classes_, label_encoder.transform(label_encoder.classes_)))\n",
    "print(mapeamento_nationality)"
   ]
  },
  {
   "cell_type": "code",
   "execution_count": 16,
   "metadata": {},
   "outputs": [],
   "source": [
    "# Excluir colunas que são 100% iguais a 0\n",
    "dfMatches = dfMatches.loc[:, ~(dfMatches == 0).all()] "
   ]
  },
  {
   "cell_type": "markdown",
   "metadata": {},
   "source": [
    "Remoção de colunas já tratadas e salvas em novas colunas ou colunas definidas como não úteis"
   ]
  },
  {
   "cell_type": "code",
   "execution_count": 17,
   "metadata": {},
   "outputs": [],
   "source": [
    "dfPlayers = dfPlayers.drop(['nationality','Current Club', 'position', 'full_name', 'birthday'], axis=1)"
   ]
  },
  {
   "cell_type": "code",
   "execution_count": 18,
   "metadata": {},
   "outputs": [],
   "source": [
    "# Excluir colunas que são 100% iguais a 0\n",
    "dfPlayers = dfPlayers.loc[:, ~(dfPlayers == 0).all()] "
   ]
  },
  {
   "cell_type": "markdown",
   "metadata": {},
   "source": [
    "Tratamento dos dados team_goal_timings. Essa coluna representa o minuto em que os gols dos time aconteceram, mas tínhamos problemas com jogos que acabaram sem gols"
   ]
  },
  {
   "cell_type": "code",
   "execution_count": null,
   "metadata": {},
   "outputs": [],
   "source": [
    "# Função para pegar o minuto do primeiro gol\n",
    "def primeiro_gol(minutos):\n",
    "    if pd.isna(minutos):\n",
    "        return np.nan  # Mantém NaN se os minutos forem nulos\n",
    "\n",
    "    # Divide a string em uma lista, ignorando espaços e apostrofos\n",
    "    minutos = [m.split(\"'\")[0].strip() for m in str(minutos).split(',') if m]\n",
    "\n",
    "    # Filtra apenas valores que podem ser convertidos para inteiros\n",
    "    try:\n",
    "        minutos = [int(m) for m in minutos if m.isdigit()]\n",
    "    except ValueError:\n",
    "        return np.nan  # Retorna NaN se houver erro na conversão\n",
    "    \n",
    "    if not minutos:\n",
    "        return np.nan  # Retorna NaN se a lista estiver vazia\n",
    "    \n",
    "    # Retorna o primeiro valor da lista ordenada\n",
    "    return sorted(minutos)[0]\n",
    "\n",
    "# Aplicando a função para o primeiro gol\n",
    "dfMatches['home_team_first_goal'] = dfMatches['home_team_goal_timings'].apply(primeiro_gol)\n",
    "dfMatches['away_team_first_goal'] = dfMatches['away_team_goal_timings'].apply(primeiro_gol)\n",
    "\n",
    "# Exibindo as primeiras linhas\n",
    "dfMatches[['home_team_goal_timings', 'home_team_first_goal', 'away_team_goal_timings', 'away_team_first_goal']].head(20)"
   ]
  },
  {
   "cell_type": "code",
   "execution_count": 20,
   "metadata": {},
   "outputs": [],
   "source": [
    "dfMatches = dfMatches.drop(['away_team_goal_timings', 'home_team_goal_timings'], axis=1)"
   ]
  },
  {
   "cell_type": "markdown",
   "metadata": {},
   "source": [
    "# Gráficos de importancia das colunas"
   ]
  },
  {
   "cell_type": "code",
   "execution_count": null,
   "metadata": {},
   "outputs": [],
   "source": [
    "# Selecionar as colunas de interesse (Ex: quem marca o placar final)\n",
    "target_columns = ['home_team_goal_count', 'away_team_goal_count']\n",
    "\n",
    "# Separar as features (X) dos alvos (y)\n",
    "X = dfMatches.drop(target_columns, axis=1)\n",
    "y = dfMatches[target_columns]\n",
    "\n",
    "# Remover variáveis categóricas ou convertê-las em numéricas (se ainda não foi feito)\n",
    "X = X.select_dtypes(exclude=['object'])\n",
    "\n",
    "# Dividir os dados em treino e teste\n",
    "X_train, X_test, y_train, y_test = train_test_split(X.fillna(0), y.fillna(0), test_size=0.3, random_state=42)\n",
    "\n",
    "# 3. Utilizar RandomForest para ver a importância das features\n",
    "model = RandomForestRegressor(random_state=42)\n",
    "model.fit(X_train, y_train)\n",
    "\n",
    "# Obter as importâncias das features\n",
    "importances = model.feature_importances_\n",
    "features = X.columns\n",
    "\n",
    "# Criar um DataFrame com as importâncias\n",
    "feature_importances = pd.DataFrame({'Feature': features, 'Importance': importances})\n",
    "\n",
    "# Ordenar as features pela importância, da maior para a menor\n",
    "feature_importances = feature_importances.sort_values(by='Importance', ascending=False)\n",
    "\n",
    "# Exibir as 20 variáveis que mais influenciam no modelo\n",
    "plt.figure(figsize=(10, 8))\n",
    "sns.barplot(x='Importance', y='Feature', data=feature_importances.head(20))  # Mostrar as 20 mais importantes\n",
    "plt.title('Top 20 Features mais Importantes')\n",
    "plt.show()\n",
    "print(feature_importances)"
   ]
  },
  {
   "cell_type": "code",
   "execution_count": null,
   "metadata": {},
   "outputs": [],
   "source": [
    "#Selecionar as colunas de interesse (Ex: quem marca o placar final)\n",
    "target_columns = ['home_team_goal_count', 'away_team_goal_count']\n",
    "\n",
    "# Separar as features (X) dos alvos (y)\n",
    "X = dfMatches.drop(target_columns, axis=1)\n",
    "y = dfMatches[target_columns]\n",
    "\n",
    "# Remover variáveis categóricas ou convertê-las em numéricas (se ainda não foi feito)\n",
    "X = X.select_dtypes(exclude=['object'])\n",
    "\n",
    "# Dividir os dados em treino e teste\n",
    "X_train, X_test, y_train, y_test = train_test_split(X.fillna(0), y.fillna(0), test_size=0.3, random_state=42)\n",
    "\n",
    "# 3. Utilizar RandomForest para ver a importância das features\n",
    "model = RandomForestRegressor(random_state=42)\n",
    "model.fit(X_train, y_train)\n",
    "\n",
    "# Obter as importâncias das features\n",
    "importances = model.feature_importances_\n",
    "features = X.columns\n",
    "\n",
    "# Criar um DataFrame com as importâncias\n",
    "feature_importances = pd.DataFrame({'Feature': features, 'Importance': importances})\n",
    "\n",
    "# Ordenar as features pela importância, da menor para a maior\n",
    "feature_importances = feature_importances.sort_values(by='Importance', ascending=True)\n",
    "\n",
    "# Exibir as 20 variáveis que menos influenciam no modelo (ou seja, as que mais atrapalham)\n",
    "plt.figure(figsize=(10, 8))\n",
    "sns.barplot(x='Importance', y='Feature', data=feature_importances.head(20))  # Mostrar as 20 menos importantes\n",
    "plt.title('Top 20 Features Menos Importantes (Mais Atrapalham)')\n",
    "plt.show()\n"
   ]
  },
  {
   "cell_type": "markdown",
   "metadata": {},
   "source": [
    "A partir dos gráficos acima, obtém-se as variáveis que mais impactam no modelo, tendo o nome de sua coluna e seu respecitivo grau de importância. Dessa forma, é possível utilizar as mais importantes dentro da aplicação que está sendo desenvolvida"
   ]
  },
  {
   "cell_type": "markdown",
   "metadata": {},
   "source": [
    "Gera o csv das colunas tratadas para serem utilizadas em novos notebooks"
   ]
  },
  {
   "cell_type": "code",
   "execution_count": 23,
   "metadata": {},
   "outputs": [],
   "source": [
    "dfPlayers.to_csv('dfPlayers.csv', index=False)\n",
    "dfMatches.to_csv('dfMatches.csv', index=False)\n",
    "dfTeams.to_csv('dfTeams.csv', index=False)"
   ]
  }
 ],
 "metadata": {
  "kernelspec": {
   "display_name": "Python 3",
   "language": "python",
   "name": "python3"
  },
  "language_info": {
   "codemirror_mode": {
    "name": "ipython",
    "version": 3
   },
   "file_extension": ".py",
   "mimetype": "text/x-python",
   "name": "python",
   "nbconvert_exporter": "python",
   "pygments_lexer": "ipython3",
   "version": "3.12.6"
  }
 },
 "nbformat": 4,
 "nbformat_minor": 2
}
